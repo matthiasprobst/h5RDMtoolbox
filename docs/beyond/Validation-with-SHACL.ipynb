{
 "cells": [
  {
   "cell_type": "code",
   "execution_count": 1,
   "id": "4bc46c73-954b-4977-b022-e609171c02a5",
   "metadata": {},
   "outputs": [],
   "source": [
    "import h5rdmtoolbox as h5tbx\n",
    "\n",
    "import rdflib\n",
    "import pyshacl"
   ]
  },
  {
   "cell_type": "code",
   "execution_count": 82,
   "id": "53869c32-437b-415d-b4fc-8977dfc8279f",
   "metadata": {},
   "outputs": [],
   "source": [
    "schacl_shape = \"\"\"\n",
    "@prefix sh: <http://www.w3.org/ns/shacl#> .\n",
    "@prefix hdf: <http://purl.allotrope.org/ontologies/hdf5/1.8#> .\n",
    "@prefix ex: <http://example.org/> .\n",
    "@prefix xsd: <http://www.w3.org/2001/XMLSchema#> .\n",
    "\n",
    "<VelocityShape1>\n",
    "    a sh:NodeShape ;\n",
    "    sh:targetClass hdf:Dataset ;\n",
    "    sh:property [\n",
    "        sh:path hdf:name ;\n",
    "        sh:or (\n",
    "            [ sh:hasValue \"/velocity\" ]\n",
    "            [ sh:hasValue \"/data/velocity\" ]\n",
    "        ) ;\n",
    "    ] .\"\"\""
   ]
  },
  {
   "cell_type": "code",
   "execution_count": 88,
   "id": "ab227ccf-a3f9-4cb0-8775-3f18c0e1e683",
   "metadata": {},
   "outputs": [],
   "source": [
    "with h5tbx.File() as h5:\n",
    "    h5.create_group(\"data\")\n",
    "    # h5.create_dataset(\"velocity\", data=1)\n",
    "    h5.create_dataset(\"data/velocity\", data=1)"
   ]
  },
  {
   "cell_type": "code",
   "execution_count": 89,
   "id": "1b430f1e-f17f-4fcf-a9d5-fd9f570bb935",
   "metadata": {},
   "outputs": [
    {
     "name": "stdout",
     "output_type": "stream",
     "text": [
      "@prefix hdf: <http://purl.allotrope.org/ontologies/hdf5/1.8#> .\n",
      "@prefix xsd: <http://www.w3.org/2001/XMLSchema#> .\n",
      "\n",
      "hdf:H5T_INTEL_I32 a hdf:Datatype .\n",
      "\n",
      "hdf:scalarDataspace a hdf:scalarDataspace .\n",
      "\n",
      "[] a hdf:File ;\n",
      "    hdf:rootGroup [ a hdf:Group ;\n",
      "            hdf:member [ a hdf:Group ;\n",
      "                    hdf:member [ a hdf:Dataset ;\n",
      "                            hdf:dataspace hdf:scalarDataspace ;\n",
      "                            hdf:datatype hdf:H5T_INTEL_I32,\n",
      "                                \"H5T_INTEGER\" ;\n",
      "                            hdf:layout hdf:H5D_CONTIGUOUS ;\n",
      "                            hdf:maximumSize -1 ;\n",
      "                            hdf:name \"/data/velocity\" ;\n",
      "                            hdf:rank 0 ;\n",
      "                            hdf:size 1 ;\n",
      "                            hdf:value \"1\" ] ;\n",
      "                    hdf:name \"/data\"^^xsd:string ] ;\n",
      "            hdf:name \"/\"^^xsd:string ] .\n",
      "\n",
      "\n"
     ]
    }
   ],
   "source": [
    "ttl = h5tbx.get_ld(h5.hdf_filename)\n",
    "\n",
    "print(ttl.serialize(format=\"ttl\"))"
   ]
  },
  {
   "cell_type": "markdown",
   "id": "3a16be68-8d69-46b1-8d54-d492f9bda3e0",
   "metadata": {},
   "source": [
    "# Load SHACL Shape Graph"
   ]
  },
  {
   "cell_type": "code",
   "execution_count": 90,
   "id": "ae6d9ba7-fc3b-4683-b5bc-b00ad23a3c46",
   "metadata": {},
   "outputs": [
    {
     "data": {
      "text/plain": [
       "<Graph identifier=N262c1bfadc6b47ff8901ba0dee74eef3 (<class 'rdflib.graph.Graph'>)>"
      ]
     },
     "execution_count": 90,
     "metadata": {},
     "output_type": "execute_result"
    }
   ],
   "source": [
    "shape_graph = rdflib.Graph()\n",
    "shape_graph.parse(data=schacl_shape, format=\"turtle\")  # Load SHACL from file"
   ]
  },
  {
   "cell_type": "markdown",
   "id": "6dd63e81-4f8f-49d5-a47c-7c78b8fd3287",
   "metadata": {},
   "source": [
    "# Perform SHACL validation"
   ]
  },
  {
   "cell_type": "code",
   "execution_count": 91,
   "id": "2718b489-7ef4-4cf1-b44c-7712733919fe",
   "metadata": {},
   "outputs": [],
   "source": [
    "conforms, results_graph, results_text = pyshacl.validate(ttl, shacl_graph=shape_graph)\n",
    "# Perform SHACL validation"
   ]
  },
  {
   "cell_type": "code",
   "execution_count": 92,
   "id": "d7ecafd7-daf0-46fd-b798-dcd719e387ca",
   "metadata": {},
   "outputs": [
    {
     "name": "stdout",
     "output_type": "stream",
     "text": [
      "Validation Report\n",
      "Conforms: True\n",
      "\n"
     ]
    }
   ],
   "source": [
    "print(results_text)"
   ]
  },
  {
   "cell_type": "code",
   "execution_count": null,
   "id": "3c9a19d2-2fae-46eb-98da-6eecd4c1ef59",
   "metadata": {},
   "outputs": [],
   "source": []
  },
  {
   "cell_type": "code",
   "execution_count": null,
   "id": "4169be10-d980-4273-9045-10f6c9f18081",
   "metadata": {},
   "outputs": [],
   "source": []
  },
  {
   "cell_type": "code",
   "execution_count": null,
   "id": "d48b708b-9db5-44b0-ae52-dfe466b71fd6",
   "metadata": {},
   "outputs": [],
   "source": []
  }
 ],
 "metadata": {
  "kernelspec": {
   "display_name": "Python 3 (ipykernel)",
   "language": "python",
   "name": "python3"
  },
  "language_info": {
   "codemirror_mode": {
    "name": "ipython",
    "version": 3
   },
   "file_extension": ".py",
   "mimetype": "text/x-python",
   "name": "python",
   "nbconvert_exporter": "python",
   "pygments_lexer": "ipython3",
   "version": "3.10.12"
  }
 },
 "nbformat": 4,
 "nbformat_minor": 5
}
