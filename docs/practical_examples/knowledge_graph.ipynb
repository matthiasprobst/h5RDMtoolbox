{
 "cells": [
  {
   "cell_type": "markdown",
   "id": "c74a70b1-7972-4cbe-9685-126ddb8e8cda",
   "metadata": {},
   "source": [
    "# Visualize HDF5 in a knowledge graph\n",
    "\n",
    "Using `kglab` (https://derwen.ai/docs/kgl/)"
   ]
  },
  {
   "cell_type": "code",
   "execution_count": null,
   "id": "a9b58411-88af-4972-b5c8-b01391df58fc",
   "metadata": {
    "scrolled": true
   },
   "outputs": [],
   "source": [
    "# !pip install kglab"
   ]
  },
  {
   "cell_type": "code",
   "execution_count": null,
   "id": "feb70a18-b9e7-40db-b369-4e6c927301e5",
   "metadata": {},
   "outputs": [],
   "source": [
    "import kglab\n",
    "import rdflib\n",
    "import numpy as np"
   ]
  },
  {
   "cell_type": "code",
   "execution_count": null,
   "id": "690c0219-d7f5-4b0d-a897-59cf8f354149",
   "metadata": {},
   "outputs": [],
   "source": [
    "import h5rdmtoolbox as h5tbx"
   ]
  },
  {
   "cell_type": "code",
   "execution_count": null,
   "id": "d4d871e0-5bff-42f7-a27d-f1f0337dd964",
   "metadata": {
    "scrolled": true
   },
   "outputs": [],
   "source": [
    "with h5tbx.File() as h5:\n",
    "    h5.create_dataset(name='test', data=4.3)\n",
    "    h5.create_dataset(name='nd-array', data=np.random.rand(2, 3), chunks=(1,3))\n",
    "    grp = h5.create_group(name='contact')\n",
    "    grp.attrs['fname', rdflib.FOAF.firstName] = 'Matthias'\n",
    "    grp.attrs['lname', rdflib.FOAF.lastName] = 'Probst'\n",
    "    grp.attrs['hint'] = 'This group could be representing a person.'\n",
    "    grp.rdf['hint'].definition = 'A hint gives helpful information on something.'\n",
    "    grp.rdf.type = rdflib.PROV.Person  # --> rdf.type = Person\n",
    "    grp.rdf.subject = 'https://orcid.org/0000-0001-8729-0482'  # -> @id='https://orcid.org/0000-0001-8729-0482'\n",
    "    \n",
    "graph = h5tbx.get_ld(h5.hdf_filename, structural=True, file_uri=\"https://example.org#\", context={\"ex\": \"https://example.org#\"})\n",
    "print(graph.serialize())"
   ]
  },
  {
   "cell_type": "code",
   "execution_count": null,
   "id": "064a9e31-1fd0-429e-9189-663e950bc52f",
   "metadata": {},
   "outputs": [],
   "source": [
    "namespaces = {k: str(v) for k, v in dict(graph.namespaces()).items()}\n",
    "kg = kglab.KnowledgeGraph(\n",
    "    import_graph=graph,\n",
    "    namespaces=namespaces)"
   ]
  },
  {
   "cell_type": "code",
   "execution_count": null,
   "id": "ce1a26f6-ad59-4014-b5b2-dcee38f11a26",
   "metadata": {},
   "outputs": [],
   "source": [
    "subgraph = kglab.SubgraphTensor(kg)"
   ]
  },
  {
   "cell_type": "code",
   "execution_count": null,
   "id": "78c9adf7-43f0-4aa1-8740-149bf3a5f74f",
   "metadata": {},
   "outputs": [],
   "source": [
    "VIS_STYLE= {\n",
    "    \"hdf\": {\"color\": \"red\", \"size\": 30},\n",
    "    \"_\": {\"color\": \"black\", \"size\": 20}\n",
    "}"
   ]
  },
  {
   "cell_type": "code",
   "execution_count": null,
   "id": "e8d13d2e-d66e-4028-8909-7192cfef1bf6",
   "metadata": {},
   "outputs": [],
   "source": [
    "pyvis_graph = subgraph.build_pyvis_graph(notebook=True, style=VIS_STYLE)\n",
    "# pyvis_graph.show('graph.html', notebook=True)\n",
    "# the above call fails in the readthedocs build process... we show an image of the result here:"
   ]
  },
  {
   "attachments": {},
   "cell_type": "markdown",
   "id": "c93fe042-3c77-4c00-9738-324d465213da",
   "metadata": {},
   "source": [
    "![grafik.png](../_static/Screenshot_pyvis_graph.png)"
   ]
  },
  {
   "cell_type": "code",
   "execution_count": null,
   "id": "a44f0039-00b8-44c5-b237-ccba12993bdd",
   "metadata": {},
   "outputs": [],
   "source": [
    "with h5tbx.File() as h5:\n",
    "    h5.create_dataset(name='test', data=4.3)\n",
    "    grp = h5.create_group(name='contact')\n",
    "    grp.attrs['fname', rdflib.FOAF.firstName] = 'Matthias'\n",
    "    grp.attrs['lname', rdflib.FOAF.lastName] = 'Probst'\n",
    "    grp.attrs['hint'] = 'bah blah'\n",
    "    grp.rdf['hint'].definition = 'A hint'\n",
    "    grp.rdf.subject = rdflib.PROV.Person\n",
    "    grp.attrs['@id'] = 'https://orcid.org/0000-0001-8729-0482'\n",
    "    print(h5.dump_jsonld(indent=2, structural=False, file_uri=\"https://example.org#\"))\n",
    "\n",
    "graph = h5tbx.get_ld(h5.hdf_filename, structural=False, file_uri=\"https://example.org#\")"
   ]
  },
  {
   "cell_type": "code",
   "execution_count": null,
   "id": "077911e8-8bc3-4b58-a480-df605bdceae4",
   "metadata": {},
   "outputs": [],
   "source": [
    "VIS_STYLE= {\n",
    "    \"hdf\": {\"color\": \"red\", \"size\": 30},\n",
    "    \"_\": {\"color\": \"black\", \"size\": 20},\n",
    "    \"prof\": {\"color\": \"green\", \"size\": 10},\n",
    "    \"foaf\": {\"color\": \"green\", \"size\": 10}\n",
    "}"
   ]
  },
  {
   "cell_type": "code",
   "execution_count": null,
   "id": "67f99459-8351-4819-8a67-2b58d4b1e398",
   "metadata": {},
   "outputs": [],
   "source": [
    "kg_from_jsonld = kglab.KnowledgeGraph().load_rdf_text(\n",
    "    graph.serialize(format=\"ttl\")\n",
    ")\n",
    "\n",
    "subgraph = kglab.SubgraphTensor(kg_from_jsonld)\n",
    "pyvis_graph = subgraph.build_pyvis_graph(notebook=True, style=VIS_STYLE)\n",
    "\n",
    "pyvis_graph.force_atlas_2based(overlap=0)\n",
    "# pyvis_graph.show(\"tmp.grpah.html\", local=True, notebook=True)\n",
    "# the above call fails in the readthedocs build process... we show an image of the result here:"
   ]
  },
  {
   "cell_type": "markdown",
   "id": "2d0d3238-7763-4734-9e34-29ae7caa5b4c",
   "metadata": {},
   "source": [
    "![grafik.png](../_static/Screenshot_pyvis_graph2.png)"
   ]
  },
  {
   "cell_type": "code",
   "execution_count": null,
   "id": "d4b4a3df-6e4e-42de-ae39-7e51e5e6d465",
   "metadata": {},
   "outputs": [],
   "source": []
  }
 ],
 "metadata": {
  "kernelspec": {
   "display_name": "Python 3 (ipykernel)",
   "language": "python",
   "name": "python3"
  },
  "language_info": {
   "codemirror_mode": {
    "name": "ipython",
    "version": 3
   },
   "file_extension": ".py",
   "mimetype": "text/x-python",
   "name": "python",
   "nbconvert_exporter": "python",
   "pygments_lexer": "ipython3",
   "version": "3.12.11"
  }
 },
 "nbformat": 4,
 "nbformat_minor": 5
}
