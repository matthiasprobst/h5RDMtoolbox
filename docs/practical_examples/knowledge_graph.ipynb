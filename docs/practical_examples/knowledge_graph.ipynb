{
 "cells": [
  {
   "cell_type": "markdown",
   "id": "c74a70b1-7972-4cbe-9685-126ddb8e8cda",
   "metadata": {},
   "source": [
    "# Visualize HDF5 in a knowledge graph\n",
    "\n",
    "Using `kglab` (https://derwen.ai/docs/kgl/)"
   ]
  },
  {
   "cell_type": "code",
   "execution_count": 1,
   "id": "a9b58411-88af-4972-b5c8-b01391df58fc",
   "metadata": {
    "scrolled": true
   },
   "outputs": [],
   "source": [
    "# !pip install kglab"
   ]
  },
  {
   "cell_type": "code",
   "execution_count": 2,
   "id": "feb70a18-b9e7-40db-b369-4e6c927301e5",
   "metadata": {},
   "outputs": [],
   "source": [
    "import kglab\n",
    "import rdflib\n",
    "import numpy as np"
   ]
  },
  {
   "cell_type": "code",
   "execution_count": 3,
   "id": "690c0219-d7f5-4b0d-a897-59cf8f354149",
   "metadata": {},
   "outputs": [],
   "source": [
    "import h5rdmtoolbox as h5tbx"
   ]
  },
  {
   "cell_type": "code",
   "execution_count": 12,
   "id": "d4d871e0-5bff-42f7-a27d-f1f0337dd964",
   "metadata": {},
   "outputs": [
    {
     "name": "stdout",
     "output_type": "stream",
     "text": [
      "{\n",
      "  \"@context\": {\n",
      "    \"dcterms\": \"http://purl.org/dc/terms/\",\n",
      "    \"ex\": \"https://example.org#\",\n",
      "    \"foaf\": \"http://xmlns.com/foaf/0.1/\",\n",
      "    \"hdf\": \"http://purl.allotrope.org/ontologies/hdf5/1.8#\",\n",
      "    \"prov\": \"http://www.w3.org/ns/prov#\",\n",
      "    \"rdf\": \"http://www.w3.org/1999/02/22-rdf-syntax-ns#\"\n",
      "  },\n",
      "  \"@graph\": [\n",
      "    {\n",
      "      \"@id\": \"ex:tmp2.hdf/nd-array__dataspace_dimension_0\",\n",
      "      \"@type\": \"hdf:DataspaceDimension\",\n",
      "      \"hdf:dimensionIndex\": 0,\n",
      "      \"hdf:size\": 2\n",
      "    },\n",
      "    {\n",
      "      \"@id\": \"ex:tmp2.hdf/test__dataspace\",\n",
      "      \"@type\": \"hdf:ScalarDataspace\"\n",
      "    },\n",
      "    {\n",
      "      \"@id\": \"ex:tmp2.hdf/contact\",\n",
      "      \"@type\": \"hdf:Group\",\n",
      "      \"dcterms:relation\": {\n",
      "        \"@id\": \"https://orcid.org/0000-0001-8729-0482\"\n",
      "      },\n",
      "      \"hdf:attribute\": [\n",
      "        {\n",
      "          \"@id\": \"ex:tmp2.hdf/contact@hint\"\n",
      "        },\n",
      "        {\n",
      "          \"@id\": \"ex:tmp2.hdf/contact@lname\"\n",
      "        },\n",
      "        {\n",
      "          \"@id\": \"ex:tmp2.hdf/contact@fname\"\n",
      "        }\n",
      "      ],\n",
      "      \"hdf:name\": \"/contact\"\n",
      "    },\n",
      "    {\n",
      "      \"@id\": \"ex:tmp2.hdf/test\",\n",
      "      \"@type\": \"hdf:Dataset\",\n",
      "      \"hdf:dataspace\": {\n",
      "        \"@id\": \"ex:tmp2.hdf/test__dataspace\"\n",
      "      },\n",
      "      \"hdf:datatype\": [\n",
      "        {\n",
      "          \"@id\": \"hdf:H5T_IEEE_F64LE\"\n",
      "        },\n",
      "        \"H5T_FLOAT\"\n",
      "      ],\n",
      "      \"hdf:layout\": {\n",
      "        \"@id\": \"hdf:H5D_CONTIGUOUS\"\n",
      "      },\n",
      "      \"hdf:maximumSize\": -1,\n",
      "      \"hdf:name\": \"/test\",\n",
      "      \"hdf:rank\": 0,\n",
      "      \"hdf:size\": 1,\n",
      "      \"hdf:value\": 4.3\n",
      "    },\n",
      "    {\n",
      "      \"@id\": \"ex:tmp2.hdf/nd-array__chunk_dimension_0\",\n",
      "      \"@type\": \"hdf:DataspaceDimension\",\n",
      "      \"hdf:dimensionIndex\": 0,\n",
      "      \"hdf:size\": 1\n",
      "    },\n",
      "    {\n",
      "      \"@id\": \"ex:tmp2.hdf/contact@fname\",\n",
      "      \"@type\": \"hdf:StringAttribute\",\n",
      "      \"hdf:data\": \"Matthias\",\n",
      "      \"hdf:name\": \"fname\"\n",
      "    },\n",
      "    {\n",
      "      \"@id\": \"ex:tmp2.hdf/nd-array__chunk_dimension_1\",\n",
      "      \"@type\": \"hdf:DataspaceDimension\",\n",
      "      \"hdf:dimensionIndex\": 1,\n",
      "      \"hdf:size\": 3\n",
      "    },\n",
      "    {\n",
      "      \"@id\": \"ex:tmp2.hdf\",\n",
      "      \"@type\": \"hdf:File\",\n",
      "      \"hdf:rootGroup\": {\n",
      "        \"@id\": \"ex:tmp2.hdf/\"\n",
      "      }\n",
      "    },\n",
      "    {\n",
      "      \"@id\": \"ex:tmp2.hdf/nd-array\",\n",
      "      \"@type\": \"hdf:Dataset\",\n",
      "      \"hdf:chunk\": {\n",
      "        \"@id\": \"ex:tmp2.hdf/nd-array__chunk_dimensions\"\n",
      "      },\n",
      "      \"hdf:dataspace\": {\n",
      "        \"@id\": \"ex:tmp2.hdf/nd-array__dataspace\"\n",
      "      },\n",
      "      \"hdf:datatype\": [\n",
      "        \"H5T_FLOAT\",\n",
      "        {\n",
      "          \"@id\": \"hdf:H5T_IEEE_F64LE\"\n",
      "        }\n",
      "      ],\n",
      "      \"hdf:layout\": {\n",
      "        \"@id\": \"hdf:H5D_CHUNKED\"\n",
      "      },\n",
      "      \"hdf:maximumSize\": 6,\n",
      "      \"hdf:name\": \"/nd-array\",\n",
      "      \"hdf:rank\": 2,\n",
      "      \"hdf:size\": 6\n",
      "    },\n",
      "    {\n",
      "      \"@id\": \"ex:tmp2.hdf/\",\n",
      "      \"@type\": \"hdf:Group\",\n",
      "      \"hdf:member\": [\n",
      "        {\n",
      "          \"@id\": \"ex:tmp2.hdf/contact\"\n",
      "        },\n",
      "        {\n",
      "          \"@id\": \"ex:tmp2.hdf/nd-array\"\n",
      "        },\n",
      "        {\n",
      "          \"@id\": \"ex:tmp2.hdf/test\"\n",
      "        }\n",
      "      ],\n",
      "      \"hdf:name\": \"/\"\n",
      "    },\n",
      "    {\n",
      "      \"@id\": \"https://orcid.org/0000-0001-8729-0482\",\n",
      "      \"@type\": \"prov:Person\",\n",
      "      \"foaf:firstName\": \"Matthias\",\n",
      "      \"foaf:lastName\": \"Probst\"\n",
      "    },\n",
      "    {\n",
      "      \"@id\": \"ex:tmp2.hdf/nd-array__dataspace\",\n",
      "      \"@type\": \"hdf:SimpleDataspace\",\n",
      "      \"hdf:dimension\": [\n",
      "        {\n",
      "          \"@id\": \"ex:tmp2.hdf/nd-array__dataspace_dimension_0\"\n",
      "        },\n",
      "        {\n",
      "          \"@id\": \"ex:tmp2.hdf/nd-array__dataspace_dimension_1\"\n",
      "        }\n",
      "      ]\n",
      "    },\n",
      "    {\n",
      "      \"@id\": \"ex:tmp2.hdf/nd-array__dataspace_dimension_1\",\n",
      "      \"@type\": \"hdf:DataspaceDimension\",\n",
      "      \"hdf:dimensionIndex\": 1,\n",
      "      \"hdf:size\": 3\n",
      "    },\n",
      "    {\n",
      "      \"@id\": \"ex:tmp2.hdf/contact@lname\",\n",
      "      \"@type\": \"hdf:StringAttribute\",\n",
      "      \"hdf:data\": \"Probst\",\n",
      "      \"hdf:name\": \"lname\"\n",
      "    },\n",
      "    {\n",
      "      \"@id\": \"hdf:H5T_IEEE_F64LE\",\n",
      "      \"@type\": \"hdf:Datatype\"\n",
      "    },\n",
      "    {\n",
      "      \"@id\": \"ex:tmp2.hdf/nd-array__chunk_dimensions\",\n",
      "      \"@type\": \"hdf:ChunkDimension\",\n",
      "      \"hdf:dimension\": [\n",
      "        {\n",
      "          \"@id\": \"ex:tmp2.hdf/nd-array__chunk_dimension_1\"\n",
      "        },\n",
      "        {\n",
      "          \"@id\": \"ex:tmp2.hdf/nd-array__chunk_dimension_0\"\n",
      "        }\n",
      "      ]\n",
      "    },\n",
      "    {\n",
      "      \"@id\": \"ex:tmp2.hdf/contact@hint\",\n",
      "      \"@type\": \"hdf:StringAttribute\",\n",
      "      \"hdf:data\": \"This group could be representing a person.\",\n",
      "      \"hdf:name\": \"hint\"\n",
      "    }\n",
      "  ]\n",
      "}\n"
     ]
    }
   ],
   "source": [
    "with h5tbx.File() as h5:\n",
    "    h5.create_dataset(name='test', data=4.3)\n",
    "    h5.create_dataset(name='nd-array', data=np.random.rand(2, 3), chunks=(1,3))\n",
    "    grp = h5.create_group(name='contact')\n",
    "    grp.attrs['fname', rdflib.FOAF.firstName] = 'Matthias'\n",
    "    grp.attrs['lname', rdflib.FOAF.lastName] = 'Probst'\n",
    "    grp.attrs['hint'] = 'This group could be representing a person.'\n",
    "    grp.rdf['hint'].definition = 'A hint gives helpful information on something.'\n",
    "    grp.rdf.type = rdflib.PROV.Person  # --> rdf.type = Person\n",
    "    grp.rdf.subject = 'https://orcid.org/0000-0001-8729-0482'  # -> @id='https://orcid.org/0000-0001-8729-0482'\n",
    "\n",
    "    print(h5.dump_jsonld(indent=2, structural=True, file_uri=\"https://example.org#\", context=dict(ex=\"https://example.org#\")))\n",
    "    \n",
    "graph = h5tbx.get_ld(h5.hdf_filename)"
   ]
  },
  {
   "cell_type": "code",
   "execution_count": 13,
   "id": "064a9e31-1fd0-429e-9189-663e950bc52f",
   "metadata": {},
   "outputs": [],
   "source": [
    "kg = kglab.KnowledgeGraph(\n",
    "    import_graph=graph,\n",
    "    namespaces={k: str(v) for k, v in dict(graph.namespaces()).items()})"
   ]
  },
  {
   "cell_type": "code",
   "execution_count": 14,
   "id": "ce1a26f6-ad59-4014-b5b2-dcee38f11a26",
   "metadata": {},
   "outputs": [],
   "source": [
    "subgraph = kglab.SubgraphTensor(kg)"
   ]
  },
  {
   "cell_type": "code",
   "execution_count": 15,
   "id": "78c9adf7-43f0-4aa1-8740-149bf3a5f74f",
   "metadata": {},
   "outputs": [],
   "source": [
    "VIS_STYLE= {\n",
    "    \"hdf\": {\"color\": \"red\", \"size\": 30},\n",
    "    \"_\": {\"color\": \"black\", \"size\": 20}\n",
    "}"
   ]
  },
  {
   "cell_type": "code",
   "execution_count": 16,
   "id": "e8d13d2e-d66e-4028-8909-7192cfef1bf6",
   "metadata": {},
   "outputs": [
    {
     "name": "stdout",
     "output_type": "stream",
     "text": [
      "Warning: When  cdn_resources is 'local' jupyter notebook has issues displaying graphics on chrome/safari. Use cdn_resources='in_line' or cdn_resources='remote' if you have issues viewing graphics in a notebook.\n",
      "graph.html\n"
     ]
    },
    {
     "data": {
      "text/html": [
       "\n",
       "        <iframe\n",
       "            width=\"100%\"\n",
       "            height=\"600px\"\n",
       "            src=\"graph.html\"\n",
       "            frameborder=\"0\"\n",
       "            allowfullscreen\n",
       "            \n",
       "        ></iframe>\n",
       "        "
      ],
      "text/plain": [
       "<IPython.lib.display.IFrame at 0x16f4bb77760>"
      ]
     },
     "execution_count": 16,
     "metadata": {},
     "output_type": "execute_result"
    }
   ],
   "source": [
    "pyvis_graph = subgraph.build_pyvis_graph(notebook=True, style=VIS_STYLE)\n",
    "pyvis_graph.show('graph.html', notebook=True)\n",
    "# the above call fails in the readthedocs build process... we show an image of the result here:"
   ]
  },
  {
   "attachments": {},
   "cell_type": "markdown",
   "id": "c93fe042-3c77-4c00-9738-324d465213da",
   "metadata": {},
   "source": [
    "![grafik.png](../_static/Screenshot_pyvis_graph.png)"
   ]
  },
  {
   "cell_type": "code",
   "execution_count": 17,
   "id": "a44f0039-00b8-44c5-b237-ccba12993bdd",
   "metadata": {},
   "outputs": [
    {
     "name": "stdout",
     "output_type": "stream",
     "text": [
      "{\n",
      "  \"@context\": {\n",
      "    \"dcterms\": \"http://purl.org/dc/terms/\",\n",
      "    \"foaf\": \"http://xmlns.com/foaf/0.1/\",\n",
      "    \"prov\": \"http://www.w3.org/ns/prov#\"\n",
      "  },\n",
      "  \"@graph\": [\n",
      "    {\n",
      "      \"@id\": \"prov:Person\",\n",
      "      \"foaf:firstName\": \"Matthias\",\n",
      "      \"foaf:lastName\": \"Probst\"\n",
      "    },\n",
      "    {\n",
      "      \"@id\": \"_:tmp3.hdf/contact\",\n",
      "      \"dcterms:relation\": {\n",
      "        \"@id\": \"prov:Person\"\n",
      "      }\n",
      "    }\n",
      "  ]\n",
      "}\n"
     ]
    }
   ],
   "source": [
    "with h5tbx.File() as h5:\n",
    "    h5.create_dataset(name='test', data=4.3)\n",
    "    grp = h5.create_group(name='contact')\n",
    "    grp.attrs['fname', rdflib.FOAF.firstName] = 'Matthias'\n",
    "    grp.attrs['lname', rdflib.FOAF.lastName] = 'Probst'\n",
    "    grp.attrs['hint'] = 'bah blah'\n",
    "    grp.rdf['hint'].definition = 'A hint'\n",
    "    grp.rdf.subject = rdflib.PROV.Person\n",
    "    grp.attrs['@id'] = 'https://orcid.org/0000-0001-8729-0482'\n",
    "    print(h5.dump_jsonld(indent=2, structural=False))\n",
    "\n",
    "graph = h5tbx.get_ld(h5.hdf_filename, structural=False)"
   ]
  },
  {
   "cell_type": "code",
   "execution_count": 18,
   "id": "077911e8-8bc3-4b58-a480-df605bdceae4",
   "metadata": {},
   "outputs": [],
   "source": [
    "VIS_STYLE= {\n",
    "    \"hdf\": {\"color\": \"red\", \"size\": 30},\n",
    "    \"_\": {\"color\": \"black\", \"size\": 20},\n",
    "    \"prof\": {\"color\": \"green\", \"size\": 10},\n",
    "    \"foaf\": {\"color\": \"green\", \"size\": 10}\n",
    "}"
   ]
  },
  {
   "cell_type": "code",
   "execution_count": 19,
   "id": "67f99459-8351-4819-8a67-2b58d4b1e398",
   "metadata": {},
   "outputs": [
    {
     "name": "stdout",
     "output_type": "stream",
     "text": [
      "Warning: When  cdn_resources is 'local' jupyter notebook has issues displaying graphics on chrome/safari. Use cdn_resources='in_line' or cdn_resources='remote' if you have issues viewing graphics in a notebook.\n",
      "tmp.grpah.html\n"
     ]
    },
    {
     "data": {
      "text/html": [
       "\n",
       "        <iframe\n",
       "            width=\"100%\"\n",
       "            height=\"600px\"\n",
       "            src=\"tmp.grpah.html\"\n",
       "            frameborder=\"0\"\n",
       "            allowfullscreen\n",
       "            \n",
       "        ></iframe>\n",
       "        "
      ],
      "text/plain": [
       "<IPython.lib.display.IFrame at 0x16f174da0b0>"
      ]
     },
     "execution_count": 19,
     "metadata": {},
     "output_type": "execute_result"
    }
   ],
   "source": [
    "kg_from_jsonld = kglab.KnowledgeGraph().load_rdf_text(\n",
    "    graph.serialize(format=\"ttl\")\n",
    ")\n",
    "\n",
    "subgraph = kglab.SubgraphTensor(kg_from_jsonld)\n",
    "pyvis_graph = subgraph.build_pyvis_graph(notebook=True, style=VIS_STYLE)\n",
    "\n",
    "pyvis_graph.force_atlas_2based(overlap=0)\n",
    "pyvis_graph.show(\"tmp.grpah.html\", local=True, notebook=True)\n",
    "# the above call fails in the readthedocs build process... we show an image of the result here:"
   ]
  },
  {
   "cell_type": "markdown",
   "id": "2d0d3238-7763-4734-9e34-29ae7caa5b4c",
   "metadata": {},
   "source": [
    "![grafik.png](../_static/Screenshot_pyvis_graph2.png)"
   ]
  },
  {
   "cell_type": "code",
   "execution_count": null,
   "id": "d4b4a3df-6e4e-42de-ae39-7e51e5e6d465",
   "metadata": {},
   "outputs": [],
   "source": []
  }
 ],
 "metadata": {
  "kernelspec": {
   "display_name": "Python 3 (ipykernel)",
   "language": "python",
   "name": "python3"
  },
  "language_info": {
   "codemirror_mode": {
    "name": "ipython",
    "version": 3
   },
   "file_extension": ".py",
   "mimetype": "text/x-python",
   "name": "python",
   "nbconvert_exporter": "python",
   "pygments_lexer": "ipython3",
   "version": "3.10.18"
  }
 },
 "nbformat": 4,
 "nbformat_minor": 5
}
