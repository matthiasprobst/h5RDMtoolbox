{
 "cells": [
  {
   "cell_type": "markdown",
   "id": "b48c6c14-8d8f-4355-9ec7-fc0391af5d88",
   "metadata": {},
   "source": [
    "# Using HDF5 file(s) as a database\n",
    "\n",
    "HDF files can be considered databases itself, however `h5py` does not implementation query functions. This chapter will take you through everything you need to know to find data within one or more HDF5 files based on attributes or properties. The explanation will be conducted using practical examples.\n",
    "\n",
    "In addition to the normal import, we will need some tutorial data:"
   ]
  },
  {
   "cell_type": "code",
   "execution_count": 1,
   "id": "2b901cbd-b051-49c0-a82c-1c31ecda5ea6",
   "metadata": {},
   "outputs": [
    {
     "data": {
      "text/plain": [
       "using(\"h5py\")"
      ]
     },
     "execution_count": 1,
     "metadata": {},
     "output_type": "execute_result"
    }
   ],
   "source": [
    "import h5rdmtoolbox as h5tbx\n",
    "from h5rdmtoolbox import tutorial\n",
    "\n",
    "h5tbx.use(None)"
   ]
  },
  {
   "cell_type": "markdown",
   "id": "1daa3eeb-b33a-4c31-82e6-8a428aed276e",
   "metadata": {},
   "source": [
    "## Test file\n",
    "\n",
    "Throughout this section the following test file will be used:"
   ]
  },
  {
   "cell_type": "code",
   "execution_count": 2,
   "id": "b02c0d3b-1695-4106-afe6-808f54118190",
   "metadata": {},
   "outputs": [
    {
     "data": {
      "text/html": [
       "<head><style>/*\r\n",
       "CSS inspired by xarray: https://github.com/pydata/xarray\r\n",
       "*/\r\n",
       ".h5tb-header > div,\r\n",
       ".h5tb-header > ul {\r\n",
       "    display: inline;\r\n",
       "    margin-top: 0;\r\n",
       "    margin-bottom: 0;\r\n",
       "}\r\n",
       "\r\n",
       ".h5tb-dataarray-cls,\r\n",
       ".h5tb-dataarray-name {\r\n",
       "    margin-left: 2px;\r\n",
       "    margin-right: 10px;\r\n",
       "}\r\n",
       "\r\n",
       ".h5tb-dataarray-name {\r\n",
       "    color: #000;\r\n",
       "}\r\n",
       "\r\n",
       ".h5grp-sections {\r\n",
       "    list-style: none;\r\n",
       "    padding: 3px;\r\n",
       "    margin: 0;\r\n",
       "}\r\n",
       "\r\n",
       ".h5grp-sections input {\r\n",
       "    display: none;\r\n",
       "}\r\n",
       "\r\n",
       ".h5grp-sections label {\r\n",
       "    display: inline;\r\n",
       "}\r\n",
       "\r\n",
       ".h5grp-sections > li > input + label > span {\r\n",
       "    display: inline;\r\n",
       "    margin-left: 4px;\r\n",
       "}\r\n",
       "\r\n",
       ".h5grp-sections > li > input:checked + label > span {\r\n",
       "    display: none;\r\n",
       "}\r\n",
       "\r\n",
       ".h5grp-sections input:enabled + label {\r\n",
       "    cursor: pointer;\r\n",
       "}\r\n",
       "\r\n",
       ".h5grp-sections input:not(.h5tb-values-in) ~ ul {\r\n",
       "    display: none;\r\n",
       "}\r\n",
       "\r\n",
       ".h5grp-sections input:not(.h5tb-values-in):checked ~ ul {\r\n",
       "    display: block;\r\n",
       "}\r\n",
       "\r\n",
       ".h5grp-sections > li > input + label {\r\n",
       "    width: 140px;\r\n",
       "    color: #555;\r\n",
       "    font-weight: 500;\r\n",
       "    padding: 4px 0 2px 0;\r\n",
       "}\r\n",
       "\r\n",
       "\r\n",
       ".h5grp-sections > li > input + label:before {\r\n",
       "    display: inline-block;\r\n",
       "    content: '+';\r\n",
       "    font-size: 11px;\r\n",
       "    width: 15px;\r\n",
       "    text-align: center;\r\n",
       "}\r\n",
       "\r\n",
       ".h5grp-sections > li > input:disabled + label:before {\r\n",
       "    color: #777;\r\n",
       "}\r\n",
       "\r\n",
       ".h5grp-sections > li > input:checked + label:before {\r\n",
       "    content: '-';\r\n",
       "}\r\n",
       "\r\n",
       ".h5tb-dim-list {\r\n",
       "    display: inline-block !important;\r\n",
       "    list-style: none;\r\n",
       "    padding: 0;\r\n",
       "}\r\n",
       "\r\n",
       ".h5tb-dim-list li {\r\n",
       "    display: inline-block;\r\n",
       "    padding: 0;\r\n",
       "    margin: 0;\r\n",
       "}\r\n",
       "\r\n",
       ".h5tb-dim-list:before {\r\n",
       "    content: '(';\r\n",
       "}\r\n",
       "\r\n",
       ".h5tb-dim-list:after {\r\n",
       "    content: ')';\r\n",
       "}\r\n",
       "\r\n",
       ".h5tb-dim-list li:not(:last-child):after {\r\n",
       "    content: ',';\r\n",
       "}\r\n",
       "\r\n",
       ".h5tb-has-index {\r\n",
       "    text-decoration: underline;\r\n",
       "}\r\n",
       "\r\n",
       ".h5tb-var-list {\r\n",
       "    list-style: none;\r\n",
       "    padding: 0;\r\n",
       "    margin: 0;\r\n",
       "}\r\n",
       "\r\n",
       ".h5tb-var-list > li {\r\n",
       "    background-color: #fcfcfc;\r\n",
       "    overflow: hidden;\r\n",
       "}\r\n",
       "\r\n",
       ".h5tb-var-list > li:nth-child(odd) {\r\n",
       "    background-color: #efefef;\r\n",
       "}\r\n",
       "\r\n",
       ".h5tb-var-list li:hover {\r\n",
       "    background-color: rgba(3, 169, 244, .2);\r\n",
       "}\r\n",
       "\r\n",
       ".h5tb-var-list li > span {\r\n",
       "    display: inline-block;\r\n",
       "}\r\n",
       "\r\n",
       "input.h5tb-varname-in + label {\r\n",
       "    width: 140px;\r\n",
       "    padding-left: 0;\r\n",
       "    font-weight: bold;\r\n",
       "}\r\n",
       "\r\n",
       ".h5tb-dataset {\r\n",
       "    width: 100px;\r\n",
       "}\r\n",
       "\r\n",
       ".h5tb-attributevalue {\r\n",
       "    width: 100px;\r\n",
       "    text-align: left;\r\n",
       "    color: #888;\r\n",
       "    white-space: nowrap;\r\n",
       "    font-size: 12px;\r\n",
       "}\r\n",
       "\r\n",
       "input.h5tb-varname-in + label:before {\r\n",
       "    content: ' ';\r\n",
       "    display: inline-block;\r\n",
       "    font-size: 11px;\r\n",
       "    width: 15px;\r\n",
       "    padding-left: 2px;\r\n",
       "    padding-right: 2px;\r\n",
       "    text-align: center;\r\n",
       "    color: #aaa;\r\n",
       "    text-decoration: none !important;\r\n",
       "}\r\n",
       "\r\n",
       "input.h5tb-varname-in:enabled + label:hover:before {\r\n",
       "    color: #000;\r\n",
       "}\r\n",
       "\r\n",
       "input.h5tb-varname-in:checked + label:before {\r\n",
       "    color: #ccc;\r\n",
       "}\r\n",
       "\r\n",
       ".h5tb-dims {\r\n",
       "    width: 280px;\r\n",
       "    white-space: nowrap;\r\n",
       "}\r\n",
       "\r\n",
       ".h5tb-attr-list {\r\n",
       "    list-style: none;\r\n",
       "    background-color: rgba(0,0,0,.0);\r\n",
       "    padding-bottom: 6px;\r\n",
       "    color: #6a6c73;\r\n",
       "}\r\n",
       "\r\n",
       ".h5tb-attr-list li,\r\n",
       ".h5tb-attr-list li:hover {\r\n",
       "    background-color: rgba(0,0,0,.0);\r\n",
       "}\r\n",
       "\r\n",
       "\r\n",
       "/* Tooltip container */\r\n",
       ".tooltip {\r\n",
       "position: relative;\r\n",
       "display: inline-block;\r\n",
       "cursor: pointer;\r\n",
       "}\r\n",
       "\r\n",
       "/* Tooltip text */\r\n",
       ".tooltip .tooltiptext {\r\n",
       "visibility: hidden;\r\n",
       "width: 300px;\r\n",
       "background-color: #555;\r\n",
       "color: #fff;\r\n",
       "text-align: center;\r\n",
       "border-radius: 6px;\r\n",
       "padding: 5px;\r\n",
       "position: absolute;\r\n",
       "z-index: 1;\r\n",
       "bottom: 125%;\r\n",
       "left: 50%;\r\n",
       "margin-left: -60px;\r\n",
       "opacity: 0;\r\n",
       "transition: opacity 0.3s;\r\n",
       "}\r\n",
       "\r\n",
       "/* Show the tooltip on hover */\r\n",
       ".tooltip:hover .tooltiptext {\r\n",
       "visibility: visible;\r\n",
       "opacity:  1;\r\n",
       "}</style></head>\n",
       "<div class='h5tb-warp'>\n",
       "\n",
       "              <ul style=\"list-style-type: none;\" class=\"h5grp-sections\">\n",
       "                    <li>\n",
       "                        <input id=\"group-ds--8991013800\" type=\"checkbox\" checked>\n",
       "                        <label style=\"font-weight: bold\" for=\"group-ds--8991013800\">\n",
       "                        /<span>(5)</span></label>\n",
       "                  \n",
       "<ul class=\"h5tb-attr-list\"><li style=\"list-style-type: none; font-style: italic\">check_value: 0</li><li style=\"list-style-type: none; font-style: italic\">project: tutorial</li><li style=\"list-style-type: none; font-style: italic\">timestamp: 2024-06-16T14:40:15.143937</li>\n",
       "                    </ul>\n",
       "\n",
       "                <ul id=\"ds-1-/pressure1-8996760800\" class=\"h5tb-var-list\">\n",
       "                    <input id=\"ds-2-/pressure1-8996766000\" class=\"h5tb-varname-in\" type=\"checkbox\" >\n",
       "                    <label class='h5tb-varname' for=\"ds-2-/pressure1-8996766000\">pressure1</label>\n",
       "                    <span class=\"h5tb-dims\">(10) [float64]</span>\n",
       "                <ul class=\"h5tb-attr-list\"><li style=\"list-style-type: none; font-style: italic\">check_value: -140.3</li><li style=\"list-style-type: none; font-style: italic\">standard_name: pressure</li><li style=\"list-style-type: none; font-style: italic\">units: Pa</li>\n",
       "                </ul>\n",
       "                </ul>\n",
       "\n",
       "                <ul id=\"ds-1-/velocity-8997843600\" class=\"h5tb-var-list\">\n",
       "                    <input id=\"ds-2-/velocity-8997847900\" class=\"h5tb-varname-in\" type=\"checkbox\" >\n",
       "                    <label class='h5tb-varname' for=\"ds-2-/velocity-8997847900\">velocity</label>\n",
       "                    <span class=\"h5tb-dims\">(3) [int32]</span>\n",
       "                <ul class=\"h5tb-attr-list\"><li style=\"list-style-type: none; font-style: italic\">check_value: 14.2</li><li style=\"list-style-type: none; font-style: italic\">standard_name: velocity</li><li style=\"list-style-type: none; font-style: italic\">units: m/s</li>\n",
       "                </ul>\n",
       "                </ul>\n",
       "\n",
       "              <ul style=\"list-style-type: none;\" class=\"h5grp-sections\">\n",
       "                    <li>\n",
       "                        <input id=\"group-ds-contact-8998628900\" type=\"checkbox\" >\n",
       "                        <label style=\"font-weight: bold\" for=\"group-ds-contact-8998628900\">\n",
       "                        contact<span>(0)</span></label>\n",
       "                  \n",
       "<ul class=\"h5tb-attr-list\"><li style=\"list-style-type: none; font-style: italic\">name<a href=\"http://xmlns.com/foaf/0.1/firstName\" target=\"_blank\" class=\"tooltip\"> <img class=\"size_of_img\" src=\"https://github.com/matthiasprobst/h5RDMtoolbox/blob/dev/h5rdmtoolbox/data/iri_icon.png?raw=true\" alt=\"IRI_ICON\" width=\"16\" height=\"16\" /> <span class=\"tooltiptext\">http://xmlns.com/foaf/0.1/firstName</span></a>: John</li><li style=\"list-style-type: none; font-style: italic\">surname<a href=\"http://xmlns.com/foaf/0.1/lastName\" target=\"_blank\" class=\"tooltip\"> <img class=\"size_of_img\" src=\"https://github.com/matthiasprobst/h5RDMtoolbox/blob/dev/h5rdmtoolbox/data/iri_icon.png?raw=true\" alt=\"IRI_ICON\" width=\"16\" height=\"16\" /> <span class=\"tooltiptext\">http://xmlns.com/foaf/0.1/lastName</span></a>: Doe</li>\n",
       "                    </ul>\n",
       "</li>\n",
       "</ul>\n",
       "\n",
       "              <ul style=\"list-style-type: none;\" class=\"h5grp-sections\">\n",
       "                    <li>\n",
       "                        <input id=\"group-ds-group1-8999568500\" type=\"checkbox\" >\n",
       "                        <label style=\"font-weight: bold\" for=\"group-ds-group1-8999568500\">\n",
       "                        group1<span>(1)</span></label>\n",
       "                  \n",
       "<ul class=\"h5tb-attr-list\"><li style=\"list-style-type: none; font-style: italic\">check_value: 0</li>\n",
       "                    </ul>\n",
       "\n",
       "                <ul id=\"ds-1-/group1/velocity-9000656800\" class=\"h5tb-var-list\">\n",
       "                    <input id=\"ds-2-/group1/velocity-9000660700\" class=\"h5tb-varname-in\" type=\"checkbox\" >\n",
       "                    <label class='h5tb-varname' for=\"ds-2-/group1/velocity-9000660700\">velocity</label>\n",
       "                    <span class=\"h5tb-dims\">(5) [int32]</span>\n",
       "                <ul class=\"h5tb-attr-list\"><li style=\"list-style-type: none; font-style: italic\">standard_name: velocity</li><li style=\"list-style-type: none; font-style: italic\">units: m/s</li>\n",
       "                </ul>\n",
       "                </ul>\n",
       "</li>\n",
       "</ul>\n",
       "\n",
       "              <ul style=\"list-style-type: none;\" class=\"h5grp-sections\">\n",
       "                    <li>\n",
       "                        <input id=\"group-ds-group2-9001229200\" type=\"checkbox\" >\n",
       "                        <label style=\"font-weight: bold\" for=\"group-ds-group2-9001229200\">\n",
       "                        group2<span>(3)</span></label>\n",
       "                  \n",
       "<ul class=\"h5tb-attr-list\"><li style=\"list-style-type: none; font-style: italic\">check_value: 0</li>\n",
       "                    </ul>\n",
       "\n",
       "                <ul id=\"ds-1-/group2/pressure2-9003425700\" class=\"h5tb-var-list\">\n",
       "                    <input id=\"ds-2-/group2/pressure2-9003429700\" class=\"h5tb-varname-in\" type=\"checkbox\" >\n",
       "                    <label class='h5tb-varname' for=\"ds-2-/group2/pressure2-9003429700\">pressure2</label>\n",
       "                    <span class=\"h5tb-dims\">(10) [float64]</span>\n",
       "                <ul class=\"h5tb-attr-list\"><li style=\"list-style-type: none; font-style: italic\">check_value: -10.3</li><li style=\"list-style-type: none; font-style: italic\">standard_name: pressure</li><li style=\"list-style-type: none; font-style: italic\">units: kPa</li>\n",
       "                </ul>\n",
       "                </ul>\n",
       "\n",
       "                <ul id=\"ds-1-/group2/velocity-9004354700\" class=\"h5tb-var-list\">\n",
       "                    <input id=\"ds-2-/group2/velocity-9004358500\" class=\"h5tb-varname-in\" type=\"checkbox\" >\n",
       "                    <label class='h5tb-varname' for=\"ds-2-/group2/velocity-9004358500\">velocity</label>\n",
       "                    <span class=\"h5tb-dims\">(5) [float64]</span>\n",
       "                <ul class=\"h5tb-attr-list\"><li style=\"list-style-type: none; font-style: italic\">check_value: 30.2</li><li style=\"list-style-type: none; font-style: italic\">standard_name: velocity</li><li style=\"list-style-type: none; font-style: italic\">units: m/s</li>\n",
       "                </ul>\n",
       "                </ul>\n",
       "\n",
       "                <ul id=\"ds-1-/group2/z-9005161800\" class=\"h5tb-var-list\">\n",
       "                <input id=\"ds-2-/group2/z-9005165900\" class=\"h5tb-varname-in\" type=\"checkbox\" >\n",
       "                <label class='h5tb-varname' for=\"ds-2-/group2/z-9005165900\">z</label>\n",
       "                <span class=\"h5tb-dims\">5.4 [m] (float64)</span>\n",
       "                <ul class=\"h5tb-attr-list\"><li style=\"list-style-type: none; font-style: italic\">standard_name: z_coordinate</li><li style=\"list-style-type: none; font-style: italic\">units: m</li>\n",
       "                </ul>\n",
       "                </ul>\n",
       "</li>\n",
       "</ul>\n",
       "</li>\n",
       "</ul>\n",
       "</div>"
      ],
      "text/plain": [
       "<IPython.core.display.HTML object>"
      ]
     },
     "metadata": {},
     "output_type": "display_data"
    }
   ],
   "source": [
    "filename = tutorial.generate_sample_file()\n",
    "h5tbx.dump(filename)"
   ]
  },
  {
   "cell_type": "markdown",
   "id": "8c851066-f76d-4ef4-bf91-29cff0334ad0",
   "metadata": {},
   "source": [
    "## Attribute search\n",
    "\n",
    "HDF attribute generally are describing groups or datasets and hence are ideal to search for.\n",
    "\n",
    "One such attribute used in the test file is \"standard_name\". The `find` methods uses a filter argument `flt` of type dictionary, similar to MongoDB syntax. The return value will be a list of (lazy) objects:"
   ]
  },
  {
   "cell_type": "code",
   "execution_count": 3,
   "id": "5dc95dce-4d20-4c72-a95c-a6c4412ca87b",
   "metadata": {},
   "outputs": [
    {
     "data": {
      "text/plain": [
       "[<LDataset \"/velocity\" in \"C:\\Users\\Matthias\\AppData\\Local\\h5rdmtoolbox\\h5rdmtoolbox\\tmp\\tmp_4\\tmp0.hdf\" attrs=(check_value=14.2, standard_name=velocity, units=m/s)>,\n",
       " <LDataset \"/group2/velocity\" in \"C:\\Users\\Matthias\\AppData\\Local\\h5rdmtoolbox\\h5rdmtoolbox\\tmp\\tmp_4\\tmp0.hdf\" attrs=(check_value=30.2, units=m/s, standard_name=velocity)>,\n",
       " <LDataset \"/group1/velocity\" in \"C:\\Users\\Matthias\\AppData\\Local\\h5rdmtoolbox\\h5rdmtoolbox\\tmp\\tmp_4\\tmp0.hdf\" attrs=(standard_name=velocity, units=m/s)>]"
      ]
     },
     "execution_count": 3,
     "metadata": {},
     "output_type": "execute_result"
    }
   ],
   "source": [
    "with h5tbx.File(filename) as h5:\n",
    "    res = h5.find(flt={'standard_name': 'velocity', 'units': 'm/s'})\n",
    "\n",
    "res"
   ]
  },
  {
   "cell_type": "markdown",
   "id": "7c8040d8-f92e-43d6-b419-d64ca575c602",
   "metadata": {},
   "source": [
    "If we are only interested in the first occurrence, then `find_one` should be used."
   ]
  },
  {
   "cell_type": "code",
   "execution_count": 4,
   "id": "9b97388f-9611-4b29-b5ed-2140dcf8a50b",
   "metadata": {},
   "outputs": [],
   "source": [
    "with h5tbx.File(filename) as h5:\n",
    "    res = h5.find_one(flt={'standard_name': 'velocity', 'units': 'm'})\n",
    "\n",
    "res"
   ]
  },
  {
   "cell_type": "markdown",
   "id": "1ee608f2-d157-4d3b-a040-1c7a2a481609",
   "metadata": {},
   "source": [
    "Both function are also part of the `database` module and can be called on HDF5 filenames:"
   ]
  },
  {
   "cell_type": "code",
   "execution_count": 5,
   "id": "71403092-3576-4bef-943b-1c2ef0b0d9f2",
   "metadata": {},
   "outputs": [],
   "source": [
    "res_find = h5tbx.database.find(filename, flt={'standard_name': 'velocity'})\n",
    "assert len(res_find) == 3\n",
    "res_one = h5tbx.database.find_one(filename, flt={'standard_name': 'velocity'})"
   ]
  },
  {
   "cell_type": "markdown",
   "id": "6adf80f8-05a2-40e2-9d91-42873b3b69c3",
   "metadata": {},
   "source": [
    "### Property search\n",
    "\n",
    "It might be reasonable to search for properties of HDF5 objects, like a specific shape, dimension etc.. For this, a dollar sign must be added to the property name:"
   ]
  },
  {
   "cell_type": "code",
   "execution_count": 6,
   "id": "527ea4af-3835-4fd7-ad33-b1be2d8a9067",
   "metadata": {},
   "outputs": [
    {
     "data": {
      "text/plain": [
       "[<LDataset \"/group2/z\" in \"C:\\Users\\Matthias\\AppData\\Local\\h5rdmtoolbox\\h5rdmtoolbox\\tmp\\tmp_4\\tmp0.hdf\" attrs=(standard_name=z_coordinate, units=m)>]"
      ]
     },
     "execution_count": 6,
     "metadata": {},
     "output_type": "execute_result"
    }
   ],
   "source": [
    "h5tbx.database.find(filename, flt={'$ndim': 0})"
   ]
  },
  {
   "cell_type": "markdown",
   "id": "c2c4a51b-8e05-4b03-8f08-07761e27eeb1",
   "metadata": {},
   "source": [
    "Let's search for all velocity datasets in the file. Velocity datasets are indicated by the attribute \"standard_name\":"
   ]
  },
  {
   "cell_type": "code",
   "execution_count": 7,
   "id": "3e448312-2217-4fc7-9bc6-f985c11f353b",
   "metadata": {},
   "outputs": [
    {
     "data": {
      "text/plain": [
       "[<LDataset \"/group1/velocity\" in \"C:\\Users\\Matthias\\AppData\\Local\\h5rdmtoolbox\\h5rdmtoolbox\\tmp\\tmp_4\\tmp0.hdf\" attrs=(standard_name=velocity, units=m/s)>,\n",
       " <LDataset \"/velocity\" in \"C:\\Users\\Matthias\\AppData\\Local\\h5rdmtoolbox\\h5rdmtoolbox\\tmp\\tmp_4\\tmp0.hdf\" attrs=(check_value=14.2, standard_name=velocity, units=m/s)>,\n",
       " <LDataset \"/group2/velocity\" in \"C:\\Users\\Matthias\\AppData\\Local\\h5rdmtoolbox\\h5rdmtoolbox\\tmp\\tmp_4\\tmp0.hdf\" attrs=(check_value=30.2, units=m/s, standard_name=velocity)>]"
      ]
     },
     "execution_count": 7,
     "metadata": {},
     "output_type": "execute_result"
    }
   ],
   "source": [
    "with h5tbx.File(filename) as h5:\n",
    "    res = h5.find(flt={'standard_name': 'velocity'})\n",
    "\n",
    "res"
   ]
  },
  {
   "cell_type": "markdown",
   "id": "33114158-befc-42e5-b194-6cfbd5c1278d",
   "metadata": {},
   "source": [
    "If we are only interested in the **first** occurrence, then `find_one()` does the job:"
   ]
  },
  {
   "cell_type": "code",
   "execution_count": 8,
   "id": "e366fa76-ed31-41eb-8832-3c61e87d65fa",
   "metadata": {},
   "outputs": [
    {
     "data": {
      "text/plain": [
       "<LDataset \"/velocity\" in \"C:\\Users\\Matthias\\AppData\\Local\\h5rdmtoolbox\\h5rdmtoolbox\\tmp\\tmp_4\\tmp0.hdf\" attrs=(check_value=14.2, standard_name=velocity, units=m/s)>"
      ]
     },
     "execution_count": 8,
     "metadata": {},
     "output_type": "execute_result"
    }
   ],
   "source": [
    "with h5tbx.File(filename) as h5:\n",
    "    res = h5.find_one(flt={'standard_name': 'velocity'})\n",
    "\n",
    "res"
   ]
  },
  {
   "cell_type": "markdown",
   "id": "a08e59ad-4b63-45a7-8569-67cdcbd70d7e",
   "metadata": {},
   "source": [
    "## Object filter\n",
    "By providing `objfilter=dataset` or `objfilter=group` only those type of objects are include in the result:"
   ]
  },
  {
   "cell_type": "code",
   "execution_count": 9,
   "id": "88bbc524-8490-4c54-b581-4f5524229621",
   "metadata": {},
   "outputs": [
    {
     "data": {
      "text/plain": [
       "[<LGroup \"/group1\" in \"C:\\Users\\Matthias\\AppData\\Local\\h5rdmtoolbox\\h5rdmtoolbox\\tmp\\tmp_4\\tmp0.hdf\">,\n",
       " <LGroup \"/\" in \"C:\\Users\\Matthias\\AppData\\Local\\h5rdmtoolbox\\h5rdmtoolbox\\tmp\\tmp_4\\tmp0.hdf\">,\n",
       " <LGroup \"/group2\" in \"C:\\Users\\Matthias\\AppData\\Local\\h5rdmtoolbox\\h5rdmtoolbox\\tmp\\tmp_4\\tmp0.hdf\">]"
      ]
     },
     "execution_count": 9,
     "metadata": {},
     "output_type": "execute_result"
    }
   ],
   "source": [
    "h5tbx.database.find(filename, flt={'check_value': {'$exists': True}}, objfilter='group')"
   ]
  },
  {
   "cell_type": "markdown",
   "id": "aecfcbff-e72a-4d57-88b4-304b036f743c",
   "metadata": {},
   "source": [
    "## Special operators\n",
    "\n",
    "### \"$exists\"\n",
    "\n",
    "In the below example, all objects that have an attribute \"units\" are returned"
   ]
  },
  {
   "cell_type": "code",
   "execution_count": 10,
   "id": "bf6623ab-599a-46af-8636-fed29453935e",
   "metadata": {},
   "outputs": [
    {
     "data": {
      "text/plain": [
       "[<LDataset \"/group2/velocity\" in \"C:\\Users\\Matthias\\AppData\\Local\\h5rdmtoolbox\\h5rdmtoolbox\\tmp\\tmp_4\\tmp0.hdf\" attrs=(check_value=30.2, units=m/s, standard_name=velocity)>,\n",
       " <LDataset \"/group2/pressure2\" in \"C:\\Users\\Matthias\\AppData\\Local\\h5rdmtoolbox\\h5rdmtoolbox\\tmp\\tmp_4\\tmp0.hdf\" attrs=(check_value=-10.3, standard_name=pressure, units=kPa)>,\n",
       " <LDataset \"/group1/velocity\" in \"C:\\Users\\Matthias\\AppData\\Local\\h5rdmtoolbox\\h5rdmtoolbox\\tmp\\tmp_4\\tmp0.hdf\" attrs=(standard_name=velocity, units=m/s)>,\n",
       " <LDataset \"/group2/z\" in \"C:\\Users\\Matthias\\AppData\\Local\\h5rdmtoolbox\\h5rdmtoolbox\\tmp\\tmp_4\\tmp0.hdf\" attrs=(standard_name=z_coordinate, units=m)>,\n",
       " <LDataset \"/pressure1\" in \"C:\\Users\\Matthias\\AppData\\Local\\h5rdmtoolbox\\h5rdmtoolbox\\tmp\\tmp_4\\tmp0.hdf\" attrs=(standard_name=pressure, units=Pa, check_value=-140.3)>,\n",
       " <LDataset \"/velocity\" in \"C:\\Users\\Matthias\\AppData\\Local\\h5rdmtoolbox\\h5rdmtoolbox\\tmp\\tmp_4\\tmp0.hdf\" attrs=(check_value=14.2, standard_name=velocity, units=m/s)>]"
      ]
     },
     "execution_count": 10,
     "metadata": {},
     "output_type": "execute_result"
    }
   ],
   "source": [
    "results = h5tbx.database.find(filename, {'units': {'$exists': True}})\n",
    "results"
   ]
  },
  {
   "cell_type": "markdown",
   "id": "ed73ecb3-9f78-44ff-8fa2-e42069439a56",
   "metadata": {},
   "source": [
    "### $regex\n",
    "\n",
    "Regex expressions are usefull to find objects by path name pattern:"
   ]
  },
  {
   "cell_type": "code",
   "execution_count": 11,
   "id": "e78ad508-b931-4234-aa73-6ea8b0c3e0fb",
   "metadata": {},
   "outputs": [
    {
     "data": {
      "text/plain": [
       "[<LDataset \"/group2/velocity\" in \"C:\\Users\\Matthias\\AppData\\Local\\h5rdmtoolbox\\h5rdmtoolbox\\tmp\\tmp_4\\tmp0.hdf\" attrs=(check_value=30.2, units=m/s, standard_name=velocity)>,\n",
       " <LDataset \"/group1/velocity\" in \"C:\\Users\\Matthias\\AppData\\Local\\h5rdmtoolbox\\h5rdmtoolbox\\tmp\\tmp_4\\tmp0.hdf\" attrs=(standard_name=velocity, units=m/s)>,\n",
       " <LDataset \"/velocity\" in \"C:\\Users\\Matthias\\AppData\\Local\\h5rdmtoolbox\\h5rdmtoolbox\\tmp\\tmp_4\\tmp0.hdf\" attrs=(check_value=14.2, standard_name=velocity, units=m/s)>]"
      ]
     },
     "execution_count": 11,
     "metadata": {},
     "output_type": "execute_result"
    }
   ],
   "source": [
    "results = h5tbx.database.find(filename, {'$name': {'$regex': '^.*/velocity$'}})\n",
    "results"
   ]
  },
  {
   "cell_type": "markdown",
   "id": "f9f8de61-3ffc-4521-afaf-0b30169f1595",
   "metadata": {},
   "source": [
    "### $basename\n",
    "\n",
    "\"Basename\" is not a property but could be useful. It is implemented as an \"virtual property\": "
   ]
  },
  {
   "cell_type": "code",
   "execution_count": 12,
   "id": "c540fbb1-a8a5-461a-8289-307507fe2705",
   "metadata": {},
   "outputs": [
    {
     "data": {
      "text/plain": [
       "[<LDataset \"/group2/pressure2\" in \"C:\\Users\\Matthias\\AppData\\Local\\h5rdmtoolbox\\h5rdmtoolbox\\tmp\\tmp_4\\tmp0.hdf\" attrs=(check_value=-10.3, standard_name=pressure, units=kPa)>]"
      ]
     },
     "execution_count": 12,
     "metadata": {},
     "output_type": "execute_result"
    }
   ],
   "source": [
    "results = h5tbx.database.find(filename, {'$basename': 'pressure2'})\n",
    "results"
   ]
  },
  {
   "cell_type": "markdown",
   "id": "75fd3bad-f6d9-4972-b161-6cb43e74586d",
   "metadata": {},
   "source": [
    "### Mathematical operation (>, >=, <, <=)\n",
    "\n",
    "The datasets and groups in the example files all have the attribute \"check_value\", let's identify objects that match certain values of this attribute:"
   ]
  },
  {
   "cell_type": "code",
   "execution_count": 13,
   "id": "3570e4df-96e9-4180-8c4a-a877cbe1f683",
   "metadata": {},
   "outputs": [
    {
     "name": "stdout",
     "output_type": "stream",
     "text": [
      "object names with check value greater than 0.1:\n",
      "   /group2/velocity\n",
      "   /velocity\n",
      "\n",
      "object names with check value equal to 0:\n",
      "   /group2\n",
      "   /group1\n",
      "   /\n",
      "\n",
      "object names with check value lower equal -3.3:\n",
      "   /pressure1\n",
      "   /group2/pressure2\n"
     ]
    }
   ],
   "source": [
    "print('object names with check value greater than 0.1:')\n",
    "\n",
    "results = h5tbx.database.find(filename, {'check_value': {'$gt': 0.1}})\n",
    "for r in results:\n",
    "    print('  ', r.name)\n",
    "\n",
    "\n",
    "print('\\nobject names with check value equal to 0:')\n",
    "\n",
    "results = h5tbx.database.find(filename, {'check_value': {'$eq': 0}})\n",
    "for r in results:\n",
    "    print('  ', r.name)\n",
    "\n",
    "\n",
    "print('\\nobject names with check value lower equal -3.3:')\n",
    "\n",
    "\n",
    "results = h5tbx.database.find(filename, {'check_value': {'$lte': -3.3}})\n",
    "for r in results:\n",
    "    print('  ', r.name)"
   ]
  },
  {
   "cell_type": "markdown",
   "id": "79ee7e4d-558d-47c7-8aa0-fe467f51013a",
   "metadata": {},
   "source": [
    "### User-defined operator\n",
    "\n",
    "Let's take the regex example and turn it into a new operator:\n",
    "\n",
    "The regex query filter `\"{'$name': {'$regex': '^.*/velocity$'}}\"` means, that we are looking for \"basenames\" of objects, so not the full internal HDF5 path but the name.\n",
    "\n",
    "All operator functions are stored in `database.hdfdb.query`. In fact, the `\"$basename\"`-operator exists, so we first delete it and add it again by our own function:"
   ]
  },
  {
   "cell_type": "code",
   "execution_count": 14,
   "id": "2e449ad3-79fd-4fdc-ba63-e347daedf856",
   "metadata": {},
   "outputs": [],
   "source": [
    "from h5rdmtoolbox.database.hdfdb import query\n",
    "\n",
    "# note, all operator functions are stored in this dictionary: query.operator\n",
    "query.operator.pop('$basename', None)  # remove existing operator\n",
    "\n",
    "def my_basename_operator(obj_name, basename) -> bool:\n",
    "    \"\"\"calling regex under the hood\"\"\"\n",
    "    print(f'Checking if basename of object name \"{obj_name}\" is matching pattern \"^.*/{basename}$\"')\n",
    "    return query._regex(obj_name, pattern=f'^.*/{basename}$')\n",
    "\n",
    "query.operator['$basename'] = my_basename_operator"
   ]
  },
  {
   "cell_type": "code",
   "execution_count": 15,
   "id": "46d22550-5697-4a10-a761-4a74c1023c2b",
   "metadata": {},
   "outputs": [
    {
     "name": "stdout",
     "output_type": "stream",
     "text": [
      "Checking if basename of object name \"/group1/velocity\" is matching pattern \"^.*/velocity$\"\n",
      "Checking if basename of object name \"/group2/pressure2\" is matching pattern \"^.*/velocity$\"\n",
      "Checking if basename of object name \"/group2/velocity\" is matching pattern \"^.*/velocity$\"\n",
      "Checking if basename of object name \"/group2/z\" is matching pattern \"^.*/velocity$\"\n",
      "Checking if basename of object name \"/pressure1\" is matching pattern \"^.*/velocity$\"\n",
      "Checking if basename of object name \"/velocity\" is matching pattern \"^.*/velocity$\"\n",
      "/group2/velocity\n",
      "/group1/velocity\n",
      "/velocity\n"
     ]
    }
   ],
   "source": [
    "results = h5tbx.database.find(filename, {'$name': {'$basename': 'velocity'}}, 'dataset')\n",
    "\n",
    "for r in results:\n",
    "    print(r.name)"
   ]
  },
  {
   "cell_type": "markdown",
   "id": "cd2cd861-498d-43ce-8fb5-150a525af43c",
   "metadata": {},
   "source": [
    "**Working with the results**\n",
    "\n",
    "Let's investigate the return values of queries. The method `find_one` returns a so-called \"lazy\" object, and the `find` method a generator of this class."
   ]
  },
  {
   "cell_type": "code",
   "execution_count": 16,
   "id": "39bc56e7-19b4-489f-abbd-f343976777d5",
   "metadata": {},
   "outputs": [
    {
     "name": "stdout",
     "output_type": "stream",
     "text": [
      "Checking if basename of object name \"/group1/velocity\" is matching pattern \"^.*/velocity$\"\n",
      "Checking if basename of object name \"/group2/pressure2\" is matching pattern \"^.*/velocity$\"\n",
      "Checking if basename of object name \"/group2/velocity\" is matching pattern \"^.*/velocity$\"\n",
      "Checking if basename of object name \"/group2/z\" is matching pattern \"^.*/velocity$\"\n",
      "Checking if basename of object name \"/pressure1\" is matching pattern \"^.*/velocity$\"\n",
      "Checking if basename of object name \"/velocity\" is matching pattern \"^.*/velocity$\"\n"
     ]
    },
    {
     "data": {
      "text/plain": [
       "[<matplotlib.lines.Line2D at 0x214996ed7c0>]"
      ]
     },
     "execution_count": 16,
     "metadata": {},
     "output_type": "execute_result"
    },
    {
     "data": {
      "image/png": "[encoded data removed]",
      "text/plain": [
       "<Figure size 640x480 with 1 Axes>"
      ]
     },
     "metadata": {},
     "output_type": "display_data"
    }
   ],
   "source": [
    "results = h5tbx.database.find_one(filename, {'$name': {'$basename': 'velocity'}}, 'dataset')\n",
    "\n",
    "# let's directly plot the result:\n",
    "results[()].plot(marker='o')"
   ]
  }
 ],
 "metadata": {
  "kernelspec": {
   "display_name": "Python 3 (ipykernel)",
   "language": "python",
   "name": "python3"
  },
  "language_info": {
   "codemirror_mode": {
    "name": "ipython",
    "version": 3
   },
   "file_extension": ".py",
   "mimetype": "text/x-python",
   "name": "python",
   "nbconvert_exporter": "python",
   "pygments_lexer": "ipython3",
   "version": "3.10.12"
  }
 },
 "nbformat": 4,
 "nbformat_minor": 5
}
