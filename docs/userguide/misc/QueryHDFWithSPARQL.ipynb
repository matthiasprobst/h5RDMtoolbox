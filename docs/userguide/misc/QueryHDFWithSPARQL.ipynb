{
 "cells": [
  {
   "cell_type": "markdown",
   "id": "cd3a682b-8538-49f9-88d2-f124125e06ab",
   "metadata": {},
   "source": [
    "# Query HDF metadata with SPARQL\n",
    "\n",
    "Metadata in form of JSON-LD can be queried using SPARQL: "
   ]
  },
  {
   "cell_type": "code",
   "execution_count": null,
   "id": "095506ba-475e-49b5-bf24-47e4780fad06",
   "metadata": {},
   "outputs": [],
   "source": [
    "import rdflib\n",
    "from ssnolib import SSNO\n",
    "\n",
    "import h5rdmtoolbox as h5tbx\n",
    "from h5rdmtoolbox import jsonld"
   ]
  },
  {
   "cell_type": "markdown",
   "id": "b16ad4a3-323c-4492-bae0-9a4cb6b20913",
   "metadata": {},
   "source": [
    "Example file:"
   ]
  },
  {
   "cell_type": "code",
   "execution_count": null,
   "id": "005a9671-2940-4745-ad7c-57acb5e7e405",
   "metadata": {},
   "outputs": [],
   "source": [
    "with h5tbx.File() as h5:\n",
    "    ds = h5.create_dataset('u', data=[1,2,3,4], attrs={'standard_name': 'coeff', 'units': 'm/s'})\n",
    "    ds.rdf.predicate['standard_name'] = SSNO.hasStandardName\n",
    "    ds.rdf.object['standard_name'] = \"https://local.org/standard_names/piv_correlation_coefficient\"\n",
    "    h5.dump()"
   ]
  },
  {
   "cell_type": "markdown",
   "id": "62cb9ee4-c31b-4402-9596-dda8e9899140",
   "metadata": {},
   "source": [
    "Extract metadata:"
   ]
  },
  {
   "cell_type": "code",
   "execution_count": null,
   "id": "e7eb3053-6805-493c-9190-e02f25f0201c",
   "metadata": {},
   "outputs": [],
   "source": [
    "ttl = h5tbx.serialize(h5.hdf_filename,\n",
    "                      format=\"ttl\",\n",
    "                      context={'ssno': 'https://matthiasprobst.github.io/ssno#'})\n",
    "print(ttl)"
   ]
  },
  {
   "cell_type": "markdown",
   "id": "13c27fb8-1297-4dda-a3b1-783886edd409",
   "metadata": {},
   "source": [
    "SPARQL query:"
   ]
  },
  {
   "cell_type": "code",
   "execution_count": null,
   "id": "47615dc8-6b13-411f-af08-6c8cd3812d3a",
   "metadata": {},
   "outputs": [],
   "source": [
    "sparql_query_str = \"\"\"\n",
    "PREFIX hdf5: <http://purl.allotrope.org/ontologies/hdf5/1.8#>\n",
    "PREFIX ssno: <https://matthiasprobst.github.io/ssno#>\n",
    "\n",
    "SELECT  ?name ?sn\n",
    "{\n",
    "    ?obj a hdf5:Dataset .\n",
    "    ?obj hdf5:name ?name .\n",
    "    ?obj ssno:hasStandardName ?sn .\n",
    "}\n",
    "\"\"\""
   ]
  },
  {
   "cell_type": "code",
   "execution_count": null,
   "id": "6163c77c-73e2-44bc-9c3a-91b00eb9cdff",
   "metadata": {},
   "outputs": [],
   "source": [
    "g = rdflib.Graph().parse(data=ttl, format='ttl')\n",
    "qres = g.query(sparql_query_str)\n",
    "\n",
    "for name, sn in qres:\n",
    "    print(str(name), str(sn))"
   ]
  },
  {
   "cell_type": "markdown",
   "id": "5936cd61-08c1-400d-b640-0939e38dd4b9",
   "metadata": {},
   "source": [
    "Find dataset with specific standard_name:"
   ]
  },
  {
   "cell_type": "code",
   "execution_count": null,
   "id": "540348e4-aae0-4f55-92bb-06f57ab925cf",
   "metadata": {},
   "outputs": [],
   "source": [
    "def find_dataset_from_standard_name(hdf_filename, sn, limit=1):\n",
    "    sparql_query_str = \"\"\"\n",
    "    PREFIX hdf: <http://purl.allotrope.org/ontologies/hdf5/1.8#>\n",
    "    PREFIX ssno: <https://matthiasprobst.github.io/ssno#>\n",
    "    \n",
    "    SELECT ?name\n",
    "    {\n",
    "        ?obj a hdf:Dataset .\n",
    "        ?obj hdf:name ?name .\n",
    "    \"\"\"\n",
    "    sparql_query_str += f\"?obj ssno:hasStandardName <{sn}> .\\n}}\"\n",
    "    g = rdflib.Graph().parse(data=ttl, format='ttl')\n",
    "    qres = g.query(sparql_query_str)\n",
    "\n",
    "    if limit == 1:\n",
    "        for name in qres:\n",
    "            return str(name[0])\n",
    "    else:\n",
    "        return [str(name[0]) for name in qres]"
   ]
  },
  {
   "cell_type": "code",
   "execution_count": null,
   "id": "0a7c2be4-d1d8-4180-a360-afb481076eee",
   "metadata": {},
   "outputs": [],
   "source": [
    "find_dataset_from_standard_name(\n",
    "    h5.hdf_filename,\n",
    "    'https://local.org/standard_names/piv_correlation_coefficient',\n",
    "    limit=1\n",
    ")"
   ]
  },
  {
   "cell_type": "code",
   "execution_count": null,
   "id": "24c511cc-b002-419a-ac30-b4cb0137fd3e",
   "metadata": {},
   "outputs": [],
   "source": [
    "def find_attribute_from_name(hdf_filename, attr_name, limit=1):\n",
    "    sparql_query_str = f\"\"\"\n",
    "    PREFIX hdf: <http://purl.allotrope.org/ontologies/hdf5/1.8#>\n",
    "    \n",
    "    SELECT  ?name\n",
    "    {{\n",
    "        ?obj a ?type .\n",
    "        ?obj hdf:name ?name .\n",
    "        ?obj hdf:attribute ?attr .\n",
    "        ?attr hdf:name \"{attr_name}\" .\n",
    "        VALUES ?type {{  hdf:Group hdf:Dataset }}\n",
    "    }}\n",
    "    \"\"\"\n",
    "    g = rdflib.Graph().parse(data=ttl, format='ttl')\n",
    "    qres = g.query(sparql_query_str)\n",
    "\n",
    "    def _get_attr(hdf_filename, obj_name, ak):\n",
    "        with h5tbx.File(hdf_filename, 'r') as h5:\n",
    "            return h5[obj_name].attrs[ak]\n",
    "\n",
    "    if limit == 1:\n",
    "        for name in qres:\n",
    "            return {attr_name: _get_attr(hdf_filename, str(name[0]), attr_name)}\n",
    "    else:\n",
    "        return {attr_name: [_get_attr(hdf_filename, str(name[0]), attr_name) for name in qres]}"
   ]
  },
  {
   "cell_type": "code",
   "execution_count": null,
   "id": "34444dda-921e-4f4c-8215-9382f6ca4fd6",
   "metadata": {},
   "outputs": [],
   "source": [
    "find_attribute_from_name(h5.hdf_filename, 'standard_name', limit=1)"
   ]
  },
  {
   "cell_type": "code",
   "execution_count": null,
   "id": "89751bb0-8ced-482c-9d74-37632af850d4",
   "metadata": {},
   "outputs": [],
   "source": []
  }
 ],
 "metadata": {
  "kernelspec": {
   "display_name": "Python 3 (ipykernel)",
   "language": "python",
   "name": "python3"
  },
  "language_info": {
   "codemirror_mode": {
    "name": "ipython",
    "version": 3
   },
   "file_extension": ".py",
   "mimetype": "text/x-python",
   "name": "python",
   "nbconvert_exporter": "python",
   "pygments_lexer": "ipython3",
   "version": "3.10.12"
  }
 },
 "nbformat": 4,
 "nbformat_minor": 5
}
