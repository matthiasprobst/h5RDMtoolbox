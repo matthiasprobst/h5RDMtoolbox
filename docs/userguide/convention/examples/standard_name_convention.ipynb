{
 "cells": [
  {
   "cell_type": "markdown",
   "id": "e10d29eb-bc3e-4373-8f56-e47efbb05781",
   "metadata": {},
   "source": [
    "# Standard Name Convention\n",
    "\n",
    "The \"Standard Name Convention\" is one realization of a convention promoted by the toolbox. It is based on the idea, that every dataset must have a physical unit (or none if it is dimensionless) and that datasets must be identifiable via an identifier attribute rather than the dataset name itself.\n",
    "\n",
    "The key standard attributes are \n",
    "\n",
    " - `standard_name`: A human- and machine-readable dataset identifier based on construction rules and listed in a \"Standard Name Table\",\n",
    " - `standard_name_table`: List of `standard_name` together with the base unit (SI) and a comprehensive description. It also includes additional information about how a `standard_name` can be transformed into a new `standard_name`\n",
    " - `units`: The unit attribute of a dataset. Must not be SI-unit, but must be convertible to it and then match the registered SI-unit in the Standard name table,\n",
    " - `long_name`: An alternative name if no `standard_name` is applicable."
   ]
  },
  {
   "cell_type": "markdown",
   "id": "3c8617b6-48de-4065-84b9-022a3b0dff7b",
   "metadata": {},
   "source": [
    "This concept is first introduced by the Climate and Forecast community and is called [CF-convention](http://cfconventions.org/). The `h5RDMtoolbox` adopts the concept and implements a general version of it, so that users can define their own discipline- or problem-specific standard name convention.\n",
    "\n",
    "Main benefits of the convention are:\n",
    "- achieving self-describing files, which are human and machine interpretation interpretable,\n",
    "- validating correctness of dataset identifiers (standard_name) and their units\n",
    "- allowing unit-aware processing of data.\n",
    "\n",
    "This chapter walks you through the concept and shows how to apply it"
   ]
  },
  {
   "cell_type": "code",
   "execution_count": 1,
   "id": "2ae9884b-2609-471a-ab4c-97e300ca804d",
   "metadata": {},
   "outputs": [],
   "source": [
    "import h5rdmtoolbox as h5tbx\n",
    "import warnings\n",
    "warnings.filterwarnings('ignore')\n",
    "\n",
    "from h5rdmtoolbox.convention.standard_names.table import StandardNameTable"
   ]
  },
  {
   "cell_type": "markdown",
   "id": "8fe8adf7-f44c-4f1a-8fe2-3c1272cfa0ac",
   "metadata": {},
   "source": [
    "## Standard Name Tables"
   ]
  },
  {
   "cell_type": "markdown",
   "id": "c82acdaa-9075-4c3d-a511-d8c7fc6f36e5",
   "metadata": {},
   "source": [
    "### Example 1: cf-convention"
   ]
  },
  {
   "cell_type": "markdown",
   "id": "e9e3b996-8114-43e0-935b-b1fc8b2385f2",
   "metadata": {},
   "source": [
    "The Standard name table should be defined in documents (typically XML or YAML). The corresponding object then can be initialized by the respective constructor methods (`from_yaml`, `from_web`, ...).\n",
    "\n",
    "For reading the original CF-convention table, do the following:"
   ]
  },
  {
   "cell_type": "code",
   "execution_count": 2,
   "id": "66808089-b59f-4dd2-86ab-a1c1904ebf44",
   "metadata": {},
   "outputs": [
    {
     "data": {
      "text/html": [
       "<li style=\"list-style-type: none; font-style: italic\">StandardNameTable: (name: cf-standard-name-table.xml, version_number: 79, last_modified: 2022-03-19T15:25:54Z, institution: Centre for Environmental Data Analysis, contact: support@ceda.ac.uk, version: v79.0.0, url: https://cfconventions.org/Data/cf-standard-names/79/src/cf-standard-name-table.xml)</li>"
      ],
      "text/plain": [
       "<StandardNameTable: (name: cf-standard-name-table.xml, version_number: 79, last_modified: 2022-03-19T15:25:54Z, institution: Centre for Environmental Data Analysis, contact: support@ceda.ac.uk, version: v79.0.0, url: https://cfconventions.org/Data/cf-standard-names/79/src/cf-standard-name-table.xml)>"
      ]
     },
     "execution_count": 2,
     "metadata": {},
     "output_type": "execute_result"
    }
   ],
   "source": [
    "cf = StandardNameTable.from_web(\"https://cfconventions.org/Data/cf-standard-names/79/src/cf-standard-name-table.xml\",\n",
    "                               known_hash='4c29b5ad70f6416ad2c35981ca0f9cdebf8aab901de5b7e826a940cf06f9bae4')\n",
    "cf"
   ]
  },
  {
   "cell_type": "markdown",
   "id": "863d53e1-843b-4476-b9e2-ea959c4442d8",
   "metadata": {},
   "source": [
    "The standard names are items of the table object:"
   ]
  },
  {
   "cell_type": "code",
   "execution_count": 3,
   "id": "e5854f39-80ee-4992-9bd8-9c0324cec174",
   "metadata": {},
   "outputs": [
    {
     "data": {
      "text/html": [
       "<ul style=\"list-style-type: none;\" class=\"h5grp-sections\">\n",
       "    <li>\n",
       "        <input id=\"group-x_wind738016078834900\" type=\"checkbox\" checked>\n",
       "        <label style=\"font-weight: bold\" for=\"group-x_wind738016078834900\">\n",
       "        x_wind</label>\n",
       "        <ul class=\"h5tb-attr-list\">\n",
       "           <li style=\"list-style-type: none; font-style: italic\">units : m/s</li>           <li style=\"list-style-type: none; font-style: italic\">description : \"x\" indicates a vector component along the grid x-axis, positive with increasing x. Wind is defined as a two-dimensional (horizontal) air velocity vector, with no vertical component. (Vertical motion in the atmosphere has the standard name upward_air_velocity.).</li>      </il>\n",
       "    </ul>\n",
       "</ul>"
      ],
      "text/plain": [
       "<StandardName: \"x_wind\" [m/s] \"x\" indicates a vector component along the grid x-axis, positive with increasing x. Wind is defined as a two-dimensional (horizontal) air velocity vector, with no vertical component. (Vertical motion in the atmosphere has the standard name upward_air_velocity.).>"
      ]
     },
     "execution_count": 3,
     "metadata": {},
     "output_type": "execute_result"
    }
   ],
   "source": [
    "cf['x_wind']"
   ]
  },
  {
   "cell_type": "code",
   "execution_count": 4,
   "id": "ba9d882a-c00d-4ba4-a142-6542a57fdeff",
   "metadata": {},
   "outputs": [
    {
     "data": {
      "text/html": [
       "m/s"
      ],
      "text/latex": [
       "$\\frac{\\mathrm{m}}{\\mathrm{s}}$"
      ],
      "text/plain": [
       "<Unit('meter / second')>"
      ]
     },
     "execution_count": 4,
     "metadata": {},
     "output_type": "execute_result"
    }
   ],
   "source": [
    "cf['x_wind'].units"
   ]
  },
  {
   "cell_type": "code",
   "execution_count": 5,
   "id": "ddea8a72-2b32-430e-99e0-4afceaca8167",
   "metadata": {},
   "outputs": [
    {
     "data": {
      "text/plain": [
       "'\"x\" indicates a vector component along the grid x-axis, positive with increasing x. Wind is defined as a two-dimensional (horizontal) air velocity vector, with no vertical component. (Vertical motion in the atmosphere has the standard name upward_air_velocity.).'"
      ]
     },
     "execution_count": 5,
     "metadata": {},
     "output_type": "execute_result"
    }
   ],
   "source": [
    "cf['x_wind'].description"
   ]
  },
  {
   "cell_type": "markdown",
   "id": "bf7d5b2e-4173-4ccc-956e-539ec28ff058",
   "metadata": {},
   "source": [
    "## Example 2: User defined table"
   ]
  },
  {
   "cell_type": "markdown",
   "id": "56f1cdac-4f0f-41e3-8664-0f8ebacb973f",
   "metadata": {},
   "source": [
    "Initializing standard name tables from a web-resource should be the standard process, because a project or community might defined it and published it under a DOI.\n",
    "\n",
    "The `h5rdmtoolbox` especially supports tables that are published on [Zenodo](https://zenodo.org/):"
   ]
  },
  {
   "cell_type": "code",
   "execution_count": 6,
   "id": "920d862d-78c1-4399-b204-1f711a1e60da",
   "metadata": {},
   "outputs": [
    {
     "name": "stdout",
     "output_type": "stream",
     "text": [
      "A target folder was specified. Downloading file to this folder: C:\\Users\\matth\\AppData\\Local\\h5rdmtoolbox\\h5rdmtoolbox\\1.7.1\\standard_name_tables\n"
     ]
    },
    {
     "data": {
      "text/html": [
       "<li style=\"list-style-type: none; font-style: italic\">StandardNameTable: (institution: Karlsruhe Institute of Technology, contact: https://orcid.org/0000-0001-8729-0482, valid_characters: ['^a-zA-Z0-9_'], pattern: ^[0-9 ].*, last_modified: 2023-07-18 09:05:38.112885+00:00, version: v4.1.0-alpha, zenodo_doi: 10428795)</li>"
      ],
      "text/plain": [
       "<StandardNameTable: (institution: Karlsruhe Institute of Technology, contact: https://orcid.org/0000-0001-8729-0482, valid_characters: ['^a-zA-Z0-9_'], pattern: ^[0-9 ].*, last_modified: 2023-07-18 09:05:38.112885+00:00, version: v4.1.0-alpha, zenodo_doi: 10428795)>"
      ]
     },
     "execution_count": 6,
     "metadata": {},
     "output_type": "execute_result"
    }
   ],
   "source": [
    "snt = StandardNameTable.from_zenodo(10428795)\n",
    "snt"
   ]
  },
  {
   "cell_type": "markdown",
   "id": "dd72c3e2-506e-4db9-b5a5-67dee5439e84",
   "metadata": {},
   "source": [
    "Here are the standard names of the table:"
   ]
  },
  {
   "cell_type": "code",
   "execution_count": 7,
   "id": "42ed6878-d4a1-450f-8ea5-e81311bd40c2",
   "metadata": {},
   "outputs": [
    {
     "data": {
      "text/plain": [
       "['absolute_pressure',\n",
       " 'ambient_static_pressure',\n",
       " 'ambient_temperature',\n",
       " 'auxiliary_fan_rotational_speed',\n",
       " 'blade_inlet_angle',\n",
       " 'blade_inlet_diameter',\n",
       " 'blade_number',\n",
       " 'blade_outlet_angle',\n",
       " 'blade_outlet_diameter',\n",
       " 'coordinate',\n",
       " 'density',\n",
       " 'difference_of_total_pressure_to_static_pressure_between_across_fan',\n",
       " 'difference_of_wall_static_pressure_across_fan',\n",
       " 'difference_of_wall_static_pressure_across_orifice',\n",
       " 'dynamic_pressure',\n",
       " 'dynamic_viscosity',\n",
       " 'fan_efficiency',\n",
       " 'fan_flow_coefficient',\n",
       " 'fan_inlet_area',\n",
       " 'fan_outlet_area',\n",
       " 'fan_power_coefficient',\n",
       " 'fan_pressure_coefficient',\n",
       " 'fan_rotational_speed',\n",
       " 'fan_shaft_power',\n",
       " 'fan_specific_speed',\n",
       " 'fan_torque',\n",
       " 'fan_volume_flow_rate',\n",
       " 'impeller_diameter',\n",
       " 'impeller_inlet_width',\n",
       " 'impeller_outlet_width',\n",
       " 'impeller_volume_flow_rate',\n",
       " 'impeller_weight',\n",
       " 'inner_diameter_of_orifice',\n",
       " 'kinematic_viscosity',\n",
       " 'mass_flow_rate',\n",
       " 'outer_diameter_of_orifice',\n",
       " 'pulse_delay',\n",
       " 'relative_humidity',\n",
       " 'static_pressure',\n",
       " 'temperature',\n",
       " 'time',\n",
       " 'total_pressure',\n",
       " 'turbulent_kinetic_energy',\n",
       " 'velocity',\n",
       " 'vorticity',\n",
       " 'wall_static_pressure',\n",
       " 'xx_reynolds_stress',\n",
       " 'yx_reynolds_stress',\n",
       " 'yy_reynolds_stress',\n",
       " 'yz_reynolds_stress',\n",
       " 'zx_reynolds_stress',\n",
       " 'zy_reynolds_stress',\n",
       " 'zz_reynolds_stress']"
      ]
     },
     "execution_count": 7,
     "metadata": {},
     "output_type": "execute_result"
    }
   ],
   "source": [
    "snt.names"
   ]
  },
  {
   "cell_type": "markdown",
   "id": "3550c51e-d670-4344-a0d4-25bed5a80530",
   "metadata": {},
   "source": [
    "In a notebook, we can also get a nice overview of the table by calling `dump()`:"
   ]
  },
  {
   "cell_type": "code",
   "execution_count": 8,
   "id": "659bcfdd-7333-4f78-9ccc-c9d44b28d8b3",
   "metadata": {},
   "outputs": [
    {
     "data": {
      "text/html": [
       "<table border=\"1\" class=\"dataframe\">\n",
       "  <thead>\n",
       "    <tr style=\"text-align: right;\">\n",
       "      <th></th>\n",
       "      <th>description</th>\n",
       "      <th>units</th>\n",
       "      <th>vector</th>\n",
       "      <th>alias</th>\n",
       "    </tr>\n",
       "  </thead>\n",
       "  <tbody>\n",
       "    <tr>\n",
       "      <th>absolute_pressure</th>\n",
       "      <td>Pressure is force per unit area. Absolute air pressure is pressure deviation to a total vacuum.</td>\n",
       "      <td>Pa</td>\n",
       "      <td>NaN</td>\n",
       "      <td>NaN</td>\n",
       "    </tr>\n",
       "    <tr>\n",
       "      <th>ambient_static_pressure</th>\n",
       "      <td>Static air pressure is the amount of pressure exerted by air that is not moving. Ambient static air pressure is the static air pressure of the surrounding air.</td>\n",
       "      <td>Pa</td>\n",
       "      <td>NaN</td>\n",
       "      <td>NaN</td>\n",
       "    </tr>\n",
       "    <tr>\n",
       "      <th>ambient_temperature</th>\n",
       "      <td>Air temperature is the bulk temperature of the air, not the surface (skin) temperature. Ambient air temperature is the temperature of the surrounding air.</td>\n",
       "      <td>K</td>\n",
       "      <td>NaN</td>\n",
       "      <td>NaN</td>\n",
       "    </tr>\n",
       "    <tr>\n",
       "      <th>auxiliary_fan_rotational_speed</th>\n",
       "      <td>Number of revolutions of an auxiliary fan.</td>\n",
       "      <td>1/s</td>\n",
       "      <td>NaN</td>\n",
       "      <td>NaN</td>\n",
       "    </tr>\n",
       "    <tr>\n",
       "      <th>blade_inlet_angle</th>\n",
       "      <td>Angle of blade at inlet.</td>\n",
       "      <td>rad</td>\n",
       "      <td>NaN</td>\n",
       "      <td>NaN</td>\n",
       "    </tr>\n",
       "    <tr>\n",
       "      <th>blade_inlet_diameter</th>\n",
       "      <td>The inner diameter of the test fan (D1).</td>\n",
       "      <td>m</td>\n",
       "      <td>NaN</td>\n",
       "      <td>NaN</td>\n",
       "    </tr>\n",
       "    <tr>\n",
       "      <th>blade_number</th>\n",
       "      <td>The blade number is the number of blades of the test fan.</td>\n",
       "      <td></td>\n",
       "      <td>NaN</td>\n",
       "      <td>NaN</td>\n",
       "    </tr>\n",
       "    <tr>\n",
       "      <th>blade_outlet_angle</th>\n",
       "      <td>Angle of blade at inlet.</td>\n",
       "      <td>rad</td>\n",
       "      <td>NaN</td>\n",
       "      <td>NaN</td>\n",
       "    </tr>\n",
       "    <tr>\n",
       "      <th>blade_outlet_diameter</th>\n",
       "      <td>The outer diameter of the test fan (D2).</td>\n",
       "      <td>m</td>\n",
       "      <td>NaN</td>\n",
       "      <td>NaN</td>\n",
       "    </tr>\n",
       "    <tr>\n",
       "      <th>coordinate</th>\n",
       "      <td>The spatial coordinate.</td>\n",
       "      <td>m</td>\n",
       "      <td>True</td>\n",
       "      <td>NaN</td>\n",
       "    </tr>\n",
       "    <tr>\n",
       "      <th>density</th>\n",
       "      <td>Air density is defined as the mass of air divided by its volume.</td>\n",
       "      <td>kg/m**3</td>\n",
       "      <td>NaN</td>\n",
       "      <td>NaN</td>\n",
       "    </tr>\n",
       "    <tr>\n",
       "      <th>difference_of_total_pressure_to_static_pressure_between_across_fan</th>\n",
       "      <td>The difference of static pressure at fan outlet w.r.t. the total pressure upstream of the fan. The total pressure generally is not known at the fan inlet pipe but further upstream, e.g. in a settling chamber. The dataset must provide detailed information, e.g. referencing to the respective pressure measurement device containing the exact location in the setup.</td>\n",
       "      <td>Pa</td>\n",
       "      <td>NaN</td>\n",
       "      <td>difference_of_total_pressure_to_static_pressure_between_fan_outlet_and_fan_inlet</td>\n",
       "    </tr>\n",
       "    <tr>\n",
       "      <th>difference_of_wall_static_pressure_across_fan</th>\n",
       "      <td>Static air pressure is the amount of pressure exerted by air that is not moving. Difference of wall static air pressure across a fan is the difference between the static air pressure downstream (at fan_outlet) of the fan and the total air pressure upstream of the fan at the wall (at fan_inlet).</td>\n",
       "      <td>Pa</td>\n",
       "      <td>NaN</td>\n",
       "      <td>NaN</td>\n",
       "    </tr>\n",
       "    <tr>\n",
       "      <th>difference_of_wall_static_pressure_across_orifice</th>\n",
       "      <td>Differnece of static air pressure across orifice to compute volume flow rate according to DIN EN ISO 5167.</td>\n",
       "      <td>Pa</td>\n",
       "      <td>NaN</td>\n",
       "      <td>NaN</td>\n",
       "    </tr>\n",
       "    <tr>\n",
       "      <th>dynamic_pressure</th>\n",
       "      <td>Dynamic air pressure is a measure for kinetic energy per unit volume of moving air.</td>\n",
       "      <td>Pa</td>\n",
       "      <td>NaN</td>\n",
       "      <td>NaN</td>\n",
       "    </tr>\n",
       "    <tr>\n",
       "      <th>dynamic_viscosity</th>\n",
       "      <td>Dynamic air viscosity indicates the resistance  of air towards deformation under shear stress. (https://doi.org/10.1016/B978-0-08-096949-7.00020-0).</td>\n",
       "      <td>Pa*s</td>\n",
       "      <td>NaN</td>\n",
       "      <td>NaN</td>\n",
       "    </tr>\n",
       "    <tr>\n",
       "      <th>fan_efficiency</th>\n",
       "      <td>Total fan efficiency as defined in (CAROLUS, Thomas. Ventilatoren-Aerodynamischer Entwurf, Schallvorhersage. Konstruktion, 2013, 2. Jg., p.5, eq.1.16).</td>\n",
       "      <td></td>\n",
       "      <td>NaN</td>\n",
       "      <td>NaN</td>\n",
       "    </tr>\n",
       "    <tr>\n",
       "      <th>fan_flow_coefficient</th>\n",
       "      <td>Air flow coefficient is a dimensionless number as defined in (CAROLUS, Thomas. Ventilatoren-Aerodynamischer Entwurf, Schallvorhersage. Konstruktion, 2013, 2. Jg., p.2, eq.1.3). The addition \"of_fan\" indicates that this coefficient applies to the deployed fan.</td>\n",
       "      <td></td>\n",
       "      <td>NaN</td>\n",
       "      <td>NaN</td>\n",
       "    </tr>\n",
       "    <tr>\n",
       "      <th>fan_inlet_area</th>\n",
       "      <td>The fan cross-sectional area at the location \"fan_inlet\" for fans with a casing. The position of the referred cross-sectional area is in the pipe upstream of the fan. The area is generally taken to compute the dynamic pressure at the inlet of the fan based on the volume flow rate.</td>\n",
       "      <td>m**2</td>\n",
       "      <td>NaN</td>\n",
       "      <td>NaN</td>\n",
       "    </tr>\n",
       "    <tr>\n",
       "      <th>fan_outlet_area</th>\n",
       "      <td>The fan cross-sectional area at the location \"fan_outlet\" for fans with a casing. The position of the referred cross-sectional area is in the pipe downstream of the fan. The area is generally taken to compute the dynamic pressure at the outlet of the fan based on the volume flow rate.</td>\n",
       "      <td>m**2</td>\n",
       "      <td>NaN</td>\n",
       "      <td>NaN</td>\n",
       "    </tr>\n",
       "    <tr>\n",
       "      <th>fan_power_coefficient</th>\n",
       "      <td>Power coefficient is a dimensionless number as defined in (CAROLUS, Thomas. Ventilatoren-Aerodynamischer Entwurf, Schallvorhersage. Konstruktion, 2013, 2. Jg., p.2, eq.1.5). The addition \"of_fan\" indicates that this coefficient applies for the deployed fan.</td>\n",
       "      <td></td>\n",
       "      <td>NaN</td>\n",
       "      <td>NaN</td>\n",
       "    </tr>\n",
       "    <tr>\n",
       "      <th>fan_pressure_coefficient</th>\n",
       "      <td>Total pressure coefficient is a dimensionless number as defined in (CAROLUS, Thomas. Ventilatoren-Aerodynamischer Entwurf, Schallvorhersage. Konstruktion, 2013, 2. Jg., p.2, eq.1.4).  The addition \"of_fan\" indicates that this coefficient applies for the deployed fan.</td>\n",
       "      <td></td>\n",
       "      <td>NaN</td>\n",
       "      <td>NaN</td>\n",
       "    </tr>\n",
       "    <tr>\n",
       "      <th>fan_rotational_speed</th>\n",
       "      <td>Number of revolutions of the test fan.</td>\n",
       "      <td>1/s</td>\n",
       "      <td>NaN</td>\n",
       "      <td>NaN</td>\n",
       "    </tr>\n",
       "    <tr>\n",
       "      <th>fan_shaft_power</th>\n",
       "      <td>Power of fan drive shaft.</td>\n",
       "      <td>W</td>\n",
       "      <td>NaN</td>\n",
       "      <td>NaN</td>\n",
       "    </tr>\n",
       "    <tr>\n",
       "      <th>fan_specific_speed</th>\n",
       "      <td>Specific speed of the fan as defined in (CAROLUS, Thomas. Ventilatoren-Aerodynamischer Entwurf, Schallvorhersage. Konstruktion, 2013, 2. Jg., p.2, eq.1.6).</td>\n",
       "      <td></td>\n",
       "      <td>NaN</td>\n",
       "      <td>NaN</td>\n",
       "    </tr>\n",
       "    <tr>\n",
       "      <th>fan_torque</th>\n",
       "      <td>The torque acting on the impeller of the fan.</td>\n",
       "      <td>Nm</td>\n",
       "      <td>NaN</td>\n",
       "      <td>NaN</td>\n",
       "    </tr>\n",
       "    <tr>\n",
       "      <th>fan_volume_flow_rate</th>\n",
       "      <td>Air volume flow rate is the volume of air that passes a cross section per unit time. The volume flow rate of the fan is the volume flow entering and leaving the fan. Due to gaps between the impeller and the housing, the volume flow rate is lower than the volume flow rate through the impeller (see impeller_volume_flow_rate).</td>\n",
       "      <td>m**3/s</td>\n",
       "      <td>NaN</td>\n",
       "      <td>NaN</td>\n",
       "    </tr>\n",
       "    <tr>\n",
       "      <th>impeller_diameter</th>\n",
       "      <td>The diameter of the impeller of the test fan, also D3. For some fans D2 is equal to D3.</td>\n",
       "      <td>m</td>\n",
       "      <td>NaN</td>\n",
       "      <td>NaN</td>\n",
       "    </tr>\n",
       "    <tr>\n",
       "      <th>impeller_inlet_width</th>\n",
       "      <td>The width of the impeller inlet.</td>\n",
       "      <td>m</td>\n",
       "      <td>NaN</td>\n",
       "      <td>NaN</td>\n",
       "    </tr>\n",
       "    <tr>\n",
       "      <th>impeller_outlet_width</th>\n",
       "      <td>The width of the impeller outlet.</td>\n",
       "      <td>m</td>\n",
       "      <td>NaN</td>\n",
       "      <td>NaN</td>\n",
       "    </tr>\n",
       "    <tr>\n",
       "      <th>impeller_volume_flow_rate</th>\n",
       "      <td>Air volume flow rate is the volume of air that passes a cross section per unit time. The volume flow rate of the impeller is the volume flow entering and leaving the impeller. Due to gaps between the impeller and the housing, this volume flow rate is higher than the volume flow rate through the fan (see fan_volume_flow_rate).</td>\n",
       "      <td>m**3/s</td>\n",
       "      <td>NaN</td>\n",
       "      <td>NaN</td>\n",
       "    </tr>\n",
       "    <tr>\n",
       "      <th>impeller_weight</th>\n",
       "      <td>Weight of the impeller.</td>\n",
       "      <td>kg</td>\n",
       "      <td>NaN</td>\n",
       "      <td>NaN</td>\n",
       "    </tr>\n",
       "    <tr>\n",
       "      <th>inner_diameter_of_orifice</th>\n",
       "      <td>Inner diameter of an orifice.</td>\n",
       "      <td>m</td>\n",
       "      <td>NaN</td>\n",
       "      <td>NaN</td>\n",
       "    </tr>\n",
       "    <tr>\n",
       "      <th>kinematic_viscosity</th>\n",
       "      <td>Dynamic air viscosity indicates the resistance  of air towards deformation under shear stress. Kinematic viscosity. Dynamic air viscosity divided by air denisity equals kinematic air viscosity. (https://doi.org/10.1016/B978-0-12-410461-7.00007-9).</td>\n",
       "      <td>m**2/s</td>\n",
       "      <td>NaN</td>\n",
       "      <td>NaN</td>\n",
       "    </tr>\n",
       "    <tr>\n",
       "      <th>mass_flow_rate</th>\n",
       "      <td>Air mass flow rate is the mass of air that passes a certain cross sectiont per unit time.</td>\n",
       "      <td>kg/s</td>\n",
       "      <td>NaN</td>\n",
       "      <td>NaN</td>\n",
       "    </tr>\n",
       "    <tr>\n",
       "      <th>outer_diameter_of_orifice</th>\n",
       "      <td>Outer diameter of an orifice.</td>\n",
       "      <td>m</td>\n",
       "      <td>NaN</td>\n",
       "      <td>NaN</td>\n",
       "    </tr>\n",
       "    <tr>\n",
       "      <th>pulse_delay</th>\n",
       "      <td>Time between two laser pulses.</td>\n",
       "      <td>s</td>\n",
       "      <td>NaN</td>\n",
       "      <td>NaN</td>\n",
       "    </tr>\n",
       "    <tr>\n",
       "      <th>relative_humidity</th>\n",
       "      <td>Relative humidity is a measure of the water vapor content of air.</td>\n",
       "      <td></td>\n",
       "      <td>NaN</td>\n",
       "      <td>NaN</td>\n",
       "    </tr>\n",
       "    <tr>\n",
       "      <th>static_pressure</th>\n",
       "      <td>Static air pressure is the amount of pressure exerted by air that is not moving.</td>\n",
       "      <td>Pa</td>\n",
       "      <td>NaN</td>\n",
       "      <td>NaN</td>\n",
       "    </tr>\n",
       "    <tr>\n",
       "      <th>temperature</th>\n",
       "      <td>Air temperature is the bulk temperature of the air, not the surface (skin) temperature. (CF Conventions).</td>\n",
       "      <td>degC</td>\n",
       "      <td>NaN</td>\n",
       "      <td>NaN</td>\n",
       "    </tr>\n",
       "    <tr>\n",
       "      <th>time</th>\n",
       "      <td>Recording time since start of experiment.</td>\n",
       "      <td>s</td>\n",
       "      <td>NaN</td>\n",
       "      <td>NaN</td>\n",
       "    </tr>\n",
       "    <tr>\n",
       "      <th>total_pressure</th>\n",
       "      <td>The sum of dynamic and static air pressure.</td>\n",
       "      <td>Pa</td>\n",
       "      <td>NaN</td>\n",
       "      <td>NaN</td>\n",
       "    </tr>\n",
       "    <tr>\n",
       "      <th>turbulent_kinetic_energy</th>\n",
       "      <td>The kinetic energy per unit mass of a fluid.</td>\n",
       "      <td>m**2/s**2</td>\n",
       "      <td>NaN</td>\n",
       "      <td>NaN</td>\n",
       "    </tr>\n",
       "    <tr>\n",
       "      <th>velocity</th>\n",
       "      <td>Velocity.</td>\n",
       "      <td>m/s</td>\n",
       "      <td>True</td>\n",
       "      <td>NaN</td>\n",
       "    </tr>\n",
       "    <tr>\n",
       "      <th>vorticity</th>\n",
       "      <td>Vorticity.</td>\n",
       "      <td>1/s</td>\n",
       "      <td>True</td>\n",
       "      <td>NaN</td>\n",
       "    </tr>\n",
       "    <tr>\n",
       "      <th>wall_static_pressure</th>\n",
       "      <td>Static air pressure is the amount of pressure exerted by air that is not moving. Wall static air pressure is the static air pressure at the wall.</td>\n",
       "      <td>Pa</td>\n",
       "      <td>NaN</td>\n",
       "      <td>NaN</td>\n",
       "    </tr>\n",
       "    <tr>\n",
       "      <th>xx_reynolds_stress</th>\n",
       "      <td>Reynolds stress is a tensor quantity. \"xx\" indicates that the variations of x-velocity is used.</td>\n",
       "      <td>m**2/s**2</td>\n",
       "      <td>NaN</td>\n",
       "      <td>NaN</td>\n",
       "    </tr>\n",
       "    <tr>\n",
       "      <th>yx_reynolds_stress</th>\n",
       "      <td>Reynolds stress is a tensor quantity. \"yx\" indicates that the variations of x- and y-velocity are used.</td>\n",
       "      <td>m**2/s**2</td>\n",
       "      <td>NaN</td>\n",
       "      <td>NaN</td>\n",
       "    </tr>\n",
       "    <tr>\n",
       "      <th>yy_reynolds_stress</th>\n",
       "      <td>Reynolds stress is a tensor quantity. \"yy\" indicates that the variations of y-velocity is used.</td>\n",
       "      <td>m**2/s**2</td>\n",
       "      <td>NaN</td>\n",
       "      <td>NaN</td>\n",
       "    </tr>\n",
       "    <tr>\n",
       "      <th>yz_reynolds_stress</th>\n",
       "      <td>Reynolds stress is a tensor quantity. \"yz\" indicates that the variations of y- and z-velocity are used.</td>\n",
       "      <td>m**2/s**2</td>\n",
       "      <td>NaN</td>\n",
       "      <td>NaN</td>\n",
       "    </tr>\n",
       "    <tr>\n",
       "      <th>zx_reynolds_stress</th>\n",
       "      <td>Reynolds stress is a tensor quantity. \"zx\" indicates that the variations of z- and x-velocity are used.</td>\n",
       "      <td>m**2/s**2</td>\n",
       "      <td>NaN</td>\n",
       "      <td>NaN</td>\n",
       "    </tr>\n",
       "    <tr>\n",
       "      <th>zy_reynolds_stress</th>\n",
       "      <td>Reynolds stress is a tensor quantity. \"zy\" indicates that the variations of z- and y-velocity are used. in y-axis direction.</td>\n",
       "      <td>m**2/s**2</td>\n",
       "      <td>NaN</td>\n",
       "      <td>NaN</td>\n",
       "    </tr>\n",
       "    <tr>\n",
       "      <th>zz_reynolds_stress</th>\n",
       "      <td>Reynolds stress is a tensor quantity. \"zy\" indicates that the variations of z-velocity is used.</td>\n",
       "      <td>m**2/s**2</td>\n",
       "      <td>NaN</td>\n",
       "      <td>NaN</td>\n",
       "    </tr>\n",
       "  </tbody>\n",
       "</table>"
      ],
      "text/plain": [
       "<IPython.core.display.HTML object>"
      ]
     },
     "metadata": {},
     "output_type": "display_data"
    }
   ],
   "source": [
    "snt.dump()"
   ]
  },
  {
   "cell_type": "markdown",
   "id": "00ee187b-daa9-4d76-a9b1-0a5eaa164ae5",
   "metadata": {},
   "source": [
    "### Transformation of base standard names\n",
    "Not all allowed standard names must be included in the table. There are some so-called transformations of the listed ones. \n",
    "There are two ways to transform a standard name.\n",
    "\n",
    " 1. Using affixes: Adding a prefix or a suffix\n",
    " 2. Apply a mathematical operation to the name"
   ]
  },
  {
   "cell_type": "markdown",
   "id": "2bae1cdb-e1f0-44fc-bc8e-8252299f759f",
   "metadata": {},
   "source": [
    "#### 1. Adding affixes\n",
    "\n",
    "Note, that 'x_velocity' is not part of the table:"
   ]
  },
  {
   "cell_type": "code",
   "execution_count": 9,
   "id": "05b349d9-a4ae-4ea0-bab6-84790489c0be",
   "metadata": {},
   "outputs": [
    {
     "data": {
      "text/plain": [
       "False"
      ]
     },
     "execution_count": 9,
     "metadata": {},
     "output_type": "execute_result"
    }
   ],
   "source": [
    "'x_velocity' in snt"
   ]
  },
  {
   "cell_type": "markdown",
   "id": "96ecfa73-c223-4c5f-aaec-2314ad158fbc",
   "metadata": {},
   "source": [
    "... but 'velocity' is. And it is a vector. The vector property tells us, if we can add a \"vector component name\" as a prefix, e.g. a \"x\" or \"y\":"
   ]
  },
  {
   "cell_type": "code",
   "execution_count": 10,
   "id": "176f7fa3-342b-46eb-b1b1-495bcc862345",
   "metadata": {},
   "outputs": [
    {
     "data": {
      "text/plain": [
       "True"
      ]
     },
     "execution_count": 10,
     "metadata": {},
     "output_type": "execute_result"
    }
   ],
   "source": [
    "snt['velocity'].is_vector()"
   ]
  },
  {
   "cell_type": "markdown",
   "id": "b7cede44-5eb5-409e-ba04-23c9972eaea1",
   "metadata": {},
   "source": [
    "Which vector component exist, are defined in the table:"
   ]
  },
  {
   "cell_type": "code",
   "execution_count": 11,
   "id": "aa4d2628-8004-4c4c-a995-4057108e0aa9",
   "metadata": {},
   "outputs": [
    {
     "data": {
      "text/plain": [
       "{'x': 'X indicates the x-axis component of the vector.',\n",
       " 'y': 'Y indicates the y-axis component of the vector.',\n",
       " 'z': 'Z indicates the z-axis component of the vector.'}"
      ]
     },
     "execution_count": 11,
     "metadata": {},
     "output_type": "execute_result"
    }
   ],
   "source": [
    "snt.affixes['component'].values"
   ]
  },
  {
   "cell_type": "markdown",
   "id": "d3247f88-8b4e-4a73-9894-b475f3985b2d",
   "metadata": {},
   "source": [
    "Thus, by indexing \"x_velocity\" the table checks whether the prefix is valid and if yes returns the new (transformed) standard name:"
   ]
  },
  {
   "cell_type": "code",
   "execution_count": 12,
   "id": "824bb0b3-bcb3-4261-904b-ca43ff12a097",
   "metadata": {},
   "outputs": [
    {
     "data": {
      "text/html": [
       "<ul style=\"list-style-type: none;\" class=\"h5grp-sections\">\n",
       "    <li>\n",
       "        <input id=\"group-x_velocity738018190021700\" type=\"checkbox\" checked>\n",
       "        <label style=\"font-weight: bold\" for=\"group-x_velocity738018190021700\">\n",
       "        x_velocity</label>\n",
       "        <ul class=\"h5tb-attr-list\">\n",
       "           <li style=\"list-style-type: none; font-style: italic\">units : m/s</li>           <li style=\"list-style-type: none; font-style: italic\">description : Velocity. X indicates the x-axis component of the vector.</li>      </il>\n",
       "    </ul>\n",
       "</ul>"
      ],
      "text/plain": [
       "<StandardName: \"x_velocity\" [m/s] Velocity. X indicates the x-axis component of the vector.>"
      ]
     },
     "execution_count": 12,
     "metadata": {},
     "output_type": "execute_result"
    }
   ],
   "source": [
    "snt['x_velocity']"
   ]
  },
  {
   "cell_type": "markdown",
   "id": "0652b4e4-850b-4d23-abbd-6a04726f9597",
   "metadata": {},
   "source": [
    "#### Apply a mathematical operation\n",
    "\n",
    "During processing of data, often times datasets are transformed in with mathematical function like taking the square or applying a derivative of one quantity with respect to (wrt) another one. Some mathemtaical operations like these are supported in the version, e.g.:"
   ]
  },
  {
   "cell_type": "code",
   "execution_count": 13,
   "id": "8c04d645-d666-4c55-9247-bb2bdc80734a",
   "metadata": {},
   "outputs": [
    {
     "data": {
      "text/html": [
       "<ul style=\"list-style-type: none;\" class=\"h5grp-sections\">\n",
       "    <li>\n",
       "        <input id=\"group-derivative_of_x_velocity_wrt_x_coordinate738018200995900\" type=\"checkbox\" checked>\n",
       "        <label style=\"font-weight: bold\" for=\"group-derivative_of_x_velocity_wrt_x_coordinate738018200995900\">\n",
       "        derivative_of_x_velocity_wrt_x_coordinate</label>\n",
       "        <ul class=\"h5tb-attr-list\">\n",
       "           <li style=\"list-style-type: none; font-style: italic\">units : 1/s</li>           <li style=\"list-style-type: none; font-style: italic\">description : Derivative of x_velocity with respect to x_coordinate. Velocity. X indicates the x-axis component of the vector. The spatial coordinate. X indicates the x-axis component of the vector.</li>      </il>\n",
       "    </ul>\n",
       "</ul>"
      ],
      "text/plain": [
       "<StandardName: \"derivative_of_x_velocity_wrt_x_coordinate\" [1/s] Derivative of x_velocity with respect to x_coordinate. Velocity. X indicates the x-axis component of the vector. The spatial coordinate. X indicates the x-axis component of the vector.>"
      ]
     },
     "execution_count": 13,
     "metadata": {},
     "output_type": "execute_result"
    }
   ],
   "source": [
    "snt['derivative_of_x_velocity_wrt_x_coordinate']"
   ]
  },
  {
   "cell_type": "code",
   "execution_count": 14,
   "id": "1214cbb8-0ce9-4a06-bef3-c760f565fbba",
   "metadata": {},
   "outputs": [
    {
     "data": {
      "text/html": [
       "<ul style=\"list-style-type: none;\" class=\"h5grp-sections\">\n",
       "    <li>\n",
       "        <input id=\"group-square_of_static_pressure738018216643300\" type=\"checkbox\" checked>\n",
       "        <label style=\"font-weight: bold\" for=\"group-square_of_static_pressure738018216643300\">\n",
       "        square_of_static_pressure</label>\n",
       "        <ul class=\"h5tb-attr-list\">\n",
       "           <li style=\"list-style-type: none; font-style: italic\">units : Pa**2</li>           <li style=\"list-style-type: none; font-style: italic\">description : Square of static_pressure. Static air pressure is the amount of pressure exerted by air that is not moving.</li>      </il>\n",
       "    </ul>\n",
       "</ul>"
      ],
      "text/plain": [
       "<StandardName: \"square_of_static_pressure\" [Pa**2] Square of static_pressure. Static air pressure is the amount of pressure exerted by air that is not moving.>"
      ]
     },
     "execution_count": 14,
     "metadata": {},
     "output_type": "execute_result"
    }
   ],
   "source": [
    "snt['square_of_static_pressure']"
   ]
  },
  {
   "cell_type": "code",
   "execution_count": 15,
   "id": "9e52b5c0-ef1b-45b0-a407-f21cf57725f7",
   "metadata": {},
   "outputs": [
    {
     "data": {
      "text/html": [
       "<ul style=\"list-style-type: none;\" class=\"h5grp-sections\">\n",
       "    <li>\n",
       "        <input id=\"group-arithmetic_mean_of_static_pressure738018230948000\" type=\"checkbox\" checked>\n",
       "        <label style=\"font-weight: bold\" for=\"group-arithmetic_mean_of_static_pressure738018230948000\">\n",
       "        arithmetic_mean_of_static_pressure</label>\n",
       "        <ul class=\"h5tb-attr-list\">\n",
       "           <li style=\"list-style-type: none; font-style: italic\">units : Pa</li>           <li style=\"list-style-type: none; font-style: italic\">description : Arithmetic mean of static_pressure. Static air pressure is the amount of pressure exerted by air that is not moving.</li>      </il>\n",
       "    </ul>\n",
       "</ul>"
      ],
      "text/plain": [
       "<StandardName: \"arithmetic_mean_of_static_pressure\" [Pa] Arithmetic mean of static_pressure. Static air pressure is the amount of pressure exerted by air that is not moving.>"
      ]
     },
     "execution_count": 15,
     "metadata": {},
     "output_type": "execute_result"
    }
   ],
   "source": [
    "snt['arithmetic_mean_of_static_pressure']"
   ]
  },
  {
   "cell_type": "markdown",
   "id": "75829775-75a0-4a71-95fd-22904df4ed37",
   "metadata": {},
   "source": [
    "## Usage with HDF5 files\n",
    "\n",
    "Let's apply the convention to HDF5 files. We lazyly take the existing tutorial convention and remove some standard attributes in order to limit the example to the relevant attributes of the standard name convention:"
   ]
  },
  {
   "cell_type": "code",
   "execution_count": 16,
   "id": "380c7cf8-5285-417f-9f98-5e3f13884e73",
   "metadata": {},
   "outputs": [
    {
     "data": {
      "text/plain": [
       "Convention(\"standard name convention\")"
      ]
     },
     "execution_count": 16,
     "metadata": {},
     "output_type": "execute_result"
    }
   ],
   "source": [
    "zenodo_cv = h5tbx.convention.from_zenodo('https://zenodo.org/record/8357399')\n",
    "sn_cv = zenodo_cv.pop('contact', 'comment', 'references', 'data_type')\n",
    "sn_cv.name = 'standard name convention'\n",
    "sn_cv.register()\n",
    "\n",
    "h5tbx.use(sn_cv)\n",
    "sn_cv"
   ]
  },
  {
   "cell_type": "markdown",
   "id": "79d6d6a4-fa74-475d-985a-aa9fb80f481d",
   "metadata": {},
   "source": [
    "Find out about the available standard names: We do this by creating a file and retrieving the attribute`standard_name_table`. Based on the convention, it is set by default, so it is available without explicitly setting it:"
   ]
  },
  {
   "cell_type": "code",
   "execution_count": 17,
   "id": "710cbde5-3c3f-4c68-8a7e-5492f2ee3e87",
   "metadata": {},
   "outputs": [
    {
     "name": "stdout",
     "output_type": "stream",
     "text": [
      "The available (base) standard names are:  ['coordinate', 'static_pressure', 'time', 'velocity']\n"
     ]
    }
   ],
   "source": [
    "with h5tbx.File() as h5:\n",
    "    snt = h5.standard_name_table\n",
    "\n",
    "print('The available (base) standard names are: ', snt.names)"
   ]
  },
  {
   "cell_type": "markdown",
   "id": "96aaf313-11d0-45c1-a5bb-543a6da46945",
   "metadata": {},
   "source": [
    "One possible dataset based on the standard name table could be \"x_velocity\". This is possible, because *component* is available in the list of **affixes**. Based on the transformation pattern, it is clear the \"component\" is a **prefix**. \"x\" is within the available components, so \"x_velocity\" is a valid transformed standard name from the given table:"
   ]
  },
  {
   "cell_type": "code",
   "execution_count": 18,
   "id": "9dc045e8-3c61-4cd8-ba4a-3e2d50df4558",
   "metadata": {},
   "outputs": [
    {
     "name": "stdout",
     "output_type": "stream",
     "text": [
      "Available affixes:  dict_keys(['device', 'location', 'reference_frame', 'component'])\n",
      "\n",
      "Values for the component prefix:\n"
     ]
    },
    {
     "data": {
      "text/plain": [
       "<Affix: name=\"component\", description=\"Components are prefixes to the standard_name, e.g. x_velocity.\" transformation_pattern=^(.*)_(.*)$, values=['x', 'y', 'z']>"
      ]
     },
     "execution_count": 18,
     "metadata": {},
     "output_type": "execute_result"
    }
   ],
   "source": [
    "print('Available affixes: ', snt.affixes.keys())\n",
    "\n",
    "print('\\nValues for the component prefix:')\n",
    "snt.affixes['component']"
   ]
  },
  {
   "cell_type": "markdown",
   "id": "45ff1a5d-f98c-4f29-b39c-ba94fd94eba5",
   "metadata": {},
   "source": [
    "Let's access the name from the table. It exists and the description is adjusted, too:"
   ]
  },
  {
   "cell_type": "code",
   "execution_count": 19,
   "id": "f27c8aa3-c074-4b69-ae35-f29b43bde04b",
   "metadata": {},
   "outputs": [
    {
     "data": {
      "text/html": [
       "<ul style=\"list-style-type: none;\" class=\"h5grp-sections\">\n",
       "    <li>\n",
       "        <input id=\"group-x_velocity738018839778800\" type=\"checkbox\" checked>\n",
       "        <label style=\"font-weight: bold\" for=\"group-x_velocity738018839778800\">\n",
       "        x_velocity</label>\n",
       "        <ul class=\"h5tb-attr-list\">\n",
       "           <li style=\"list-style-type: none; font-style: italic\">units : m/s</li>           <li style=\"list-style-type: none; font-style: italic\">description : Velocity refers to the change of position over time. Velocity is a vector quantity. X indicates the x-axis component of the vector.</li>      </il>\n",
       "    </ul>\n",
       "</ul>"
      ],
      "text/plain": [
       "<StandardName: \"x_velocity\" [m/s] Velocity refers to the change of position over time. Velocity is a vector quantity. X indicates the x-axis component of the vector.>"
      ]
     },
     "execution_count": 19,
     "metadata": {},
     "output_type": "execute_result"
    }
   ],
   "source": [
    "snt['x_velocity']"
   ]
  },
  {
   "cell_type": "markdown",
   "id": "57146951-aae0-4293-898d-325af8d60799",
   "metadata": {},
   "source": [
    "Creating a x-velocity dataset:"
   ]
  },
  {
   "cell_type": "code",
   "execution_count": 20,
   "id": "9de466f1-a31c-4067-91a4-6562d1389ceb",
   "metadata": {},
   "outputs": [
    {
     "data": {
      "text/html": [
       "<head><style>/*\r\n",
       "CSS inspired by xarray: https://github.com/pydata/xarray\r\n",
       "*/\r\n",
       ".h5tb-header > div,\r\n",
       ".h5tb-header > ul {\r\n",
       "    display: inline;\r\n",
       "    margin-top: 0;\r\n",
       "    margin-bottom: 0;\r\n",
       "}\r\n",
       "\r\n",
       ".h5tb-dataarray-cls,\r\n",
       ".h5tb-dataarray-name {\r\n",
       "    margin-left: 2px;\r\n",
       "    margin-right: 10px;\r\n",
       "}\r\n",
       "\r\n",
       ".h5tb-dataarray-name {\r\n",
       "    color: #000;\r\n",
       "}\r\n",
       "\r\n",
       ".h5grp-sections {\r\n",
       "    list-style: none;\r\n",
       "    padding: 3px;\r\n",
       "    margin: 0;\r\n",
       "}\r\n",
       "\r\n",
       ".h5grp-sections input {\r\n",
       "    display: none;\r\n",
       "}\r\n",
       "\r\n",
       ".h5grp-sections label {\r\n",
       "    display: inline;\r\n",
       "}\r\n",
       "\r\n",
       ".h5grp-sections > li > input + label > span {\r\n",
       "    display: inline;\r\n",
       "    margin-left: 4px;\r\n",
       "}\r\n",
       "\r\n",
       ".h5grp-sections > li > input:checked + label > span {\r\n",
       "    display: none;\r\n",
       "}\r\n",
       "\r\n",
       ".h5grp-sections input:enabled + label {\r\n",
       "    cursor: pointer;\r\n",
       "}\r\n",
       "\r\n",
       ".h5grp-sections input:not(.h5tb-values-in) ~ ul {\r\n",
       "    display: none;\r\n",
       "}\r\n",
       "\r\n",
       ".h5grp-sections input:not(.h5tb-values-in):checked ~ ul {\r\n",
       "    display: block;\r\n",
       "}\r\n",
       "\r\n",
       ".h5grp-sections > li > input + label {\r\n",
       "    width: 140px;\r\n",
       "    color: #555;\r\n",
       "    font-weight: 500;\r\n",
       "    padding: 4px 0 2px 0;\r\n",
       "}\r\n",
       "\r\n",
       "\r\n",
       ".h5grp-sections > li > input + label:before {\r\n",
       "    display: inline-block;\r\n",
       "    content: '+';\r\n",
       "    font-size: 11px;\r\n",
       "    width: 15px;\r\n",
       "    text-align: center;\r\n",
       "}\r\n",
       "\r\n",
       ".h5grp-sections > li > input:disabled + label:before {\r\n",
       "    color: #777;\r\n",
       "}\r\n",
       "\r\n",
       ".h5grp-sections > li > input:checked + label:before {\r\n",
       "    content: '-';\r\n",
       "}\r\n",
       "\r\n",
       ".h5tb-dim-list {\r\n",
       "    display: inline-block !important;\r\n",
       "    list-style: none;\r\n",
       "    padding: 0;\r\n",
       "}\r\n",
       "\r\n",
       ".h5tb-dim-list li {\r\n",
       "    display: inline-block;\r\n",
       "    padding: 0;\r\n",
       "    margin: 0;\r\n",
       "}\r\n",
       "\r\n",
       ".h5tb-dim-list:before {\r\n",
       "    content: '(';\r\n",
       "}\r\n",
       "\r\n",
       ".h5tb-dim-list:after {\r\n",
       "    content: ')';\r\n",
       "}\r\n",
       "\r\n",
       ".h5tb-dim-list li:not(:last-child):after {\r\n",
       "    content: ',';\r\n",
       "}\r\n",
       "\r\n",
       ".h5tb-has-index {\r\n",
       "    text-decoration: underline;\r\n",
       "}\r\n",
       "\r\n",
       ".h5tb-var-list {\r\n",
       "    list-style: none;\r\n",
       "    padding: 0;\r\n",
       "    margin: 0;\r\n",
       "}\r\n",
       "\r\n",
       ".h5tb-var-list > li {\r\n",
       "    background-color: #fcfcfc;\r\n",
       "    overflow: hidden;\r\n",
       "}\r\n",
       "\r\n",
       ".h5tb-var-list > li:nth-child(odd) {\r\n",
       "    background-color: #efefef;\r\n",
       "}\r\n",
       "\r\n",
       ".h5tb-var-list li:hover {\r\n",
       "    background-color: rgba(3, 169, 244, .2);\r\n",
       "}\r\n",
       "\r\n",
       ".h5tb-var-list li > span {\r\n",
       "    display: inline-block;\r\n",
       "}\r\n",
       "\r\n",
       "input.h5tb-varname-in + label {\r\n",
       "    width: 140px;\r\n",
       "    padding-left: 0;\r\n",
       "    font-weight: bold;\r\n",
       "}\r\n",
       "\r\n",
       ".h5tb-dataset {\r\n",
       "    width: 100px;\r\n",
       "}\r\n",
       "\r\n",
       ".h5tb-attributevalue {\r\n",
       "    width: 100px;\r\n",
       "    text-align: left;\r\n",
       "    color: #888;\r\n",
       "    white-space: nowrap;\r\n",
       "    font-size: 12px;\r\n",
       "}\r\n",
       "\r\n",
       "input.h5tb-varname-in + label:before {\r\n",
       "    content: ' ';\r\n",
       "    display: inline-block;\r\n",
       "    font-size: 11px;\r\n",
       "    width: 15px;\r\n",
       "    padding-left: 2px;\r\n",
       "    padding-right: 2px;\r\n",
       "    text-align: center;\r\n",
       "    color: #aaa;\r\n",
       "    text-decoration: none !important;\r\n",
       "}\r\n",
       "\r\n",
       "input.h5tb-varname-in:enabled + label:hover:before {\r\n",
       "    color: #000;\r\n",
       "}\r\n",
       "\r\n",
       "input.h5tb-varname-in:checked + label:before {\r\n",
       "    color: #ccc;\r\n",
       "}\r\n",
       "\r\n",
       ".h5tb-dims {\r\n",
       "    width: 280px;\r\n",
       "    white-space: nowrap;\r\n",
       "}\r\n",
       "\r\n",
       ".h5tb-attr-list {\r\n",
       "    list-style: none;\r\n",
       "    background-color: rgba(0,0,0,.0);\r\n",
       "    padding-bottom: 6px;\r\n",
       "    color: #6a6c73;\r\n",
       "}\r\n",
       "\r\n",
       ".h5tb-attr-list li,\r\n",
       ".h5tb-attr-list li:hover {\r\n",
       "    background-color: rgba(0,0,0,.0);\r\n",
       "}\r\n",
       "\r\n",
       "\r\n",
       "/* Tooltip container */\r\n",
       ".tooltip {\r\n",
       "position: relative;\r\n",
       "display: inline-block;\r\n",
       "cursor: pointer;\r\n",
       "}\r\n",
       "\r\n",
       "/* Tooltip text */\r\n",
       ".tooltip .tooltiptext {\r\n",
       "visibility: hidden;\r\n",
       "width: 300px;\r\n",
       "background-color: #555;\r\n",
       "color: #fff;\r\n",
       "text-align: center;\r\n",
       "border-radius: 6px;\r\n",
       "padding: 5px;\r\n",
       "position: absolute;\r\n",
       "z-index: 1;\r\n",
       "bottom: 125%;\r\n",
       "left: 50%;\r\n",
       "margin-left: -60px;\r\n",
       "opacity: 0;\r\n",
       "transition: opacity 0.3s;\r\n",
       "}\r\n",
       "\r\n",
       "/* Show the tooltip on hover */\r\n",
       ".tooltip:hover .tooltiptext {\r\n",
       "visibility: visible;\r\n",
       "opacity:  1;\r\n",
       "}</style></head>\n",
       "<div class='h5tb-warp'>\n",
       "\n",
       "              <ul style=\"list-style-type: none;\" class=\"h5grp-sections\">\n",
       "                    <li>\n",
       "                        <input id=\"group-ds--738019446566100\" type=\"checkbox\" checked>\n",
       "                        <label style=\"font-weight: bold\" for=\"group-ds--738019446566100\">\n",
       "                        /<span>(1)</span></label>\n",
       "                  \n",
       "<ul class=\"h5tb-attr-list\"><li style=\"list-style-type: none; font-style: italic\">standard_name_table: <a href=\"https://zenodo.org/record/10428817/tutorial_standard_name_table.yaml\"><img src=\"https://zenodo.org/badge/DOI/10.5281/zenodo.tutorial_standard_name_table.yaml.svg\" alt=\"DOI\"></a></li>\n",
       "                    </ul>\n",
       "\n",
       "                <ul id=\"ds-1-/u-738019451066400\" class=\"h5tb-var-list\">\n",
       "                    <input id=\"ds-2-/u-738019451069000\" class=\"h5tb-varname-in\" type=\"checkbox\" >\n",
       "                    <label class='h5tb-varname' for=\"ds-2-/u-738019451069000\">u</label>\n",
       "                    <span class=\"h5tb-dims\">(3) [int32]</span>\n",
       "                <ul class=\"h5tb-attr-list\"><li style=\"list-style-type: none; font-style: italic\">standard_name: x_velocity</li><li style=\"list-style-type: none; font-style: italic\">units: km/s</li>\n",
       "                </ul>\n",
       "                </ul>\n",
       "</li>\n",
       "</ul>\n",
       "</div>"
      ],
      "text/plain": [
       "<IPython.core.display.HTML object>"
      ]
     },
     "metadata": {},
     "output_type": "display_data"
    }
   ],
   "source": [
    "with h5tbx.File() as h5:\n",
    "    h5.create_dataset('u', data=[1,2,3], standard_name='x_velocity', units='km/s')\n",
    "    h5.dump()"
   ]
  },
  {
   "cell_type": "markdown",
   "id": "99c69908-5189-4adf-a1da-3f8ca3051191",
   "metadata": {},
   "source": [
    "## Usage with HDF5 files (update)"
   ]
  },
  {
   "cell_type": "code",
   "execution_count": 21,
   "id": "51075c5a-d8d0-41fa-9ab2-653e011dedd3",
   "metadata": {},
   "outputs": [],
   "source": [
    "from ssnolib import SSNO"
   ]
  },
  {
   "cell_type": "code",
   "execution_count": 22,
   "id": "3ee62f0a-aea6-429f-bcda-7329b2ef42c0",
   "metadata": {},
   "outputs": [
    {
     "data": {
      "text/html": [
       "<head><style>/*\r\n",
       "CSS inspired by xarray: https://github.com/pydata/xarray\r\n",
       "*/\r\n",
       ".h5tb-header > div,\r\n",
       ".h5tb-header > ul {\r\n",
       "    display: inline;\r\n",
       "    margin-top: 0;\r\n",
       "    margin-bottom: 0;\r\n",
       "}\r\n",
       "\r\n",
       ".h5tb-dataarray-cls,\r\n",
       ".h5tb-dataarray-name {\r\n",
       "    margin-left: 2px;\r\n",
       "    margin-right: 10px;\r\n",
       "}\r\n",
       "\r\n",
       ".h5tb-dataarray-name {\r\n",
       "    color: #000;\r\n",
       "}\r\n",
       "\r\n",
       ".h5grp-sections {\r\n",
       "    list-style: none;\r\n",
       "    padding: 3px;\r\n",
       "    margin: 0;\r\n",
       "}\r\n",
       "\r\n",
       ".h5grp-sections input {\r\n",
       "    display: none;\r\n",
       "}\r\n",
       "\r\n",
       ".h5grp-sections label {\r\n",
       "    display: inline;\r\n",
       "}\r\n",
       "\r\n",
       ".h5grp-sections > li > input + label > span {\r\n",
       "    display: inline;\r\n",
       "    margin-left: 4px;\r\n",
       "}\r\n",
       "\r\n",
       ".h5grp-sections > li > input:checked + label > span {\r\n",
       "    display: none;\r\n",
       "}\r\n",
       "\r\n",
       ".h5grp-sections input:enabled + label {\r\n",
       "    cursor: pointer;\r\n",
       "}\r\n",
       "\r\n",
       ".h5grp-sections input:not(.h5tb-values-in) ~ ul {\r\n",
       "    display: none;\r\n",
       "}\r\n",
       "\r\n",
       ".h5grp-sections input:not(.h5tb-values-in):checked ~ ul {\r\n",
       "    display: block;\r\n",
       "}\r\n",
       "\r\n",
       ".h5grp-sections > li > input + label {\r\n",
       "    width: 140px;\r\n",
       "    color: #555;\r\n",
       "    font-weight: 500;\r\n",
       "    padding: 4px 0 2px 0;\r\n",
       "}\r\n",
       "\r\n",
       "\r\n",
       ".h5grp-sections > li > input + label:before {\r\n",
       "    display: inline-block;\r\n",
       "    content: '+';\r\n",
       "    font-size: 11px;\r\n",
       "    width: 15px;\r\n",
       "    text-align: center;\r\n",
       "}\r\n",
       "\r\n",
       ".h5grp-sections > li > input:disabled + label:before {\r\n",
       "    color: #777;\r\n",
       "}\r\n",
       "\r\n",
       ".h5grp-sections > li > input:checked + label:before {\r\n",
       "    content: '-';\r\n",
       "}\r\n",
       "\r\n",
       ".h5tb-dim-list {\r\n",
       "    display: inline-block !important;\r\n",
       "    list-style: none;\r\n",
       "    padding: 0;\r\n",
       "}\r\n",
       "\r\n",
       ".h5tb-dim-list li {\r\n",
       "    display: inline-block;\r\n",
       "    padding: 0;\r\n",
       "    margin: 0;\r\n",
       "}\r\n",
       "\r\n",
       ".h5tb-dim-list:before {\r\n",
       "    content: '(';\r\n",
       "}\r\n",
       "\r\n",
       ".h5tb-dim-list:after {\r\n",
       "    content: ')';\r\n",
       "}\r\n",
       "\r\n",
       ".h5tb-dim-list li:not(:last-child):after {\r\n",
       "    content: ',';\r\n",
       "}\r\n",
       "\r\n",
       ".h5tb-has-index {\r\n",
       "    text-decoration: underline;\r\n",
       "}\r\n",
       "\r\n",
       ".h5tb-var-list {\r\n",
       "    list-style: none;\r\n",
       "    padding: 0;\r\n",
       "    margin: 0;\r\n",
       "}\r\n",
       "\r\n",
       ".h5tb-var-list > li {\r\n",
       "    background-color: #fcfcfc;\r\n",
       "    overflow: hidden;\r\n",
       "}\r\n",
       "\r\n",
       ".h5tb-var-list > li:nth-child(odd) {\r\n",
       "    background-color: #efefef;\r\n",
       "}\r\n",
       "\r\n",
       ".h5tb-var-list li:hover {\r\n",
       "    background-color: rgba(3, 169, 244, .2);\r\n",
       "}\r\n",
       "\r\n",
       ".h5tb-var-list li > span {\r\n",
       "    display: inline-block;\r\n",
       "}\r\n",
       "\r\n",
       "input.h5tb-varname-in + label {\r\n",
       "    width: 140px;\r\n",
       "    padding-left: 0;\r\n",
       "    font-weight: bold;\r\n",
       "}\r\n",
       "\r\n",
       ".h5tb-dataset {\r\n",
       "    width: 100px;\r\n",
       "}\r\n",
       "\r\n",
       ".h5tb-attributevalue {\r\n",
       "    width: 100px;\r\n",
       "    text-align: left;\r\n",
       "    color: #888;\r\n",
       "    white-space: nowrap;\r\n",
       "    font-size: 12px;\r\n",
       "}\r\n",
       "\r\n",
       "input.h5tb-varname-in + label:before {\r\n",
       "    content: ' ';\r\n",
       "    display: inline-block;\r\n",
       "    font-size: 11px;\r\n",
       "    width: 15px;\r\n",
       "    padding-left: 2px;\r\n",
       "    padding-right: 2px;\r\n",
       "    text-align: center;\r\n",
       "    color: #aaa;\r\n",
       "    text-decoration: none !important;\r\n",
       "}\r\n",
       "\r\n",
       "input.h5tb-varname-in:enabled + label:hover:before {\r\n",
       "    color: #000;\r\n",
       "}\r\n",
       "\r\n",
       "input.h5tb-varname-in:checked + label:before {\r\n",
       "    color: #ccc;\r\n",
       "}\r\n",
       "\r\n",
       ".h5tb-dims {\r\n",
       "    width: 280px;\r\n",
       "    white-space: nowrap;\r\n",
       "}\r\n",
       "\r\n",
       ".h5tb-attr-list {\r\n",
       "    list-style: none;\r\n",
       "    background-color: rgba(0,0,0,.0);\r\n",
       "    padding-bottom: 6px;\r\n",
       "    color: #6a6c73;\r\n",
       "}\r\n",
       "\r\n",
       ".h5tb-attr-list li,\r\n",
       ".h5tb-attr-list li:hover {\r\n",
       "    background-color: rgba(0,0,0,.0);\r\n",
       "}\r\n",
       "\r\n",
       "\r\n",
       "/* Tooltip container */\r\n",
       ".tooltip {\r\n",
       "position: relative;\r\n",
       "display: inline-block;\r\n",
       "cursor: pointer;\r\n",
       "}\r\n",
       "\r\n",
       "/* Tooltip text */\r\n",
       ".tooltip .tooltiptext {\r\n",
       "visibility: hidden;\r\n",
       "width: 300px;\r\n",
       "background-color: #555;\r\n",
       "color: #fff;\r\n",
       "text-align: center;\r\n",
       "border-radius: 6px;\r\n",
       "padding: 5px;\r\n",
       "position: absolute;\r\n",
       "z-index: 1;\r\n",
       "bottom: 125%;\r\n",
       "left: 50%;\r\n",
       "margin-left: -60px;\r\n",
       "opacity: 0;\r\n",
       "transition: opacity 0.3s;\r\n",
       "}\r\n",
       "\r\n",
       "/* Show the tooltip on hover */\r\n",
       ".tooltip:hover .tooltiptext {\r\n",
       "visibility: visible;\r\n",
       "opacity:  1;\r\n",
       "}</style></head>\n",
       "<div class='h5tb-warp'>\n",
       "\n",
       "              <ul style=\"list-style-type: none;\" class=\"h5grp-sections\">\n",
       "                    <li>\n",
       "                        <input id=\"group-ds--738020574798700\" type=\"checkbox\" checked>\n",
       "                        <label style=\"font-weight: bold\" for=\"group-ds--738020574798700\">\n",
       "                        /<span>(2)</span></label>\n",
       "                  \n",
       "<ul class=\"h5tb-attr-list\"><li style=\"list-style-type: none; font-style: italic\">standard_name_table: <a href=\"https://zenodo.org/record/10428817/tutorial_standard_name_table.yaml\"><img src=\"https://zenodo.org/badge/DOI/10.5281/zenodo.tutorial_standard_name_table.yaml.svg\" alt=\"DOI\"></a></li>\n",
       "                    </ul>\n",
       "\n",
       "                <ul id=\"ds-1-/u-738020576610000\" class=\"h5tb-var-list\">\n",
       "                <input id=\"ds-2-/u-738020576615600\" class=\"h5tb-varname-in\" type=\"checkbox\" checked>\n",
       "                <label class='h5tb-varname' for=\"ds-2-/u-738020576615600\">u</label>\n",
       "                <span class=\"h5tb-dims\">3 [] (int32)</span>\n",
       "                <ul class=\"h5tb-attr-list\"><li style=\"list-style-type: none; font-style: italic\">standard_name<a href=\"https://matthiasprobst.github.io/ssno#hasStandardName\" target=\"_blank\" class=\"tooltip\"> <img class=\"size_of_img\" src=\"https://github.com/matthiasprobst/h5RDMtoolbox/blob/dev/h5rdmtoolbox/data/iri_icon.png?raw=true\" alt=\"IRI_ICON\" width=\"16\" height=\"16\" /> <span class=\"tooltiptext\">https://matthiasprobst.github.io/ssno#hasStandardName</span></a>: x_velocity<a href=\"https://matthiasprobst.github.io/ssno#StandardName\" target=\"_blank\" class=\"tooltip\"> <img class=\"size_of_img\" src=\"https://github.com/matthiasprobst/h5RDMtoolbox/blob/dev/h5rdmtoolbox/data/iri_icon.png?raw=true\" alt=\"IRI_ICON\" width=\"16\" height=\"16\" /> <span class=\"tooltiptext\">https://matthiasprobst.github.io/ssno#StandardName</span></a></li>\n",
       "                </ul>\n",
       "                </ul>\n",
       "\n",
       "                <ul id=\"ds-1-/v-738020577611700\" class=\"h5tb-var-list\">\n",
       "                <input id=\"ds-2-/v-738020577616800\" class=\"h5tb-varname-in\" type=\"checkbox\" checked>\n",
       "                <label class='h5tb-varname' for=\"ds-2-/v-738020577616800\">v</label>\n",
       "                <span class=\"h5tb-dims\">3 [] (int32)</span>\n",
       "                <ul class=\"h5tb-attr-list\"><li style=\"list-style-type: none; font-style: italic\">standard_name<a href=\"https://matthiasprobst.github.io/ssno#hasStandardName\" target=\"_blank\" class=\"tooltip\"> <img class=\"size_of_img\" src=\"https://github.com/matthiasprobst/h5RDMtoolbox/blob/dev/h5rdmtoolbox/data/iri_icon.png?raw=true\" alt=\"IRI_ICON\" width=\"16\" height=\"16\" /> <span class=\"tooltiptext\">https://matthiasprobst.github.io/ssno#hasStandardName</span></a>: y_velocity<a href=\"https://matthiasprobst.github.io/ssno#StandardName\" target=\"_blank\" class=\"tooltip\"> <img class=\"size_of_img\" src=\"https://github.com/matthiasprobst/h5RDMtoolbox/blob/dev/h5rdmtoolbox/data/iri_icon.png?raw=true\" alt=\"IRI_ICON\" width=\"16\" height=\"16\" /> <span class=\"tooltiptext\">https://matthiasprobst.github.io/ssno#StandardName</span></a></li>\n",
       "                </ul>\n",
       "                </ul>\n",
       "</li>\n",
       "</ul>\n",
       "</div>"
      ],
      "text/plain": [
       "<IPython.core.display.HTML object>"
      ]
     },
     "metadata": {},
     "output_type": "display_data"
    }
   ],
   "source": [
    "with h5tbx.File(mode='w') as h5:\n",
    "    ds = h5.create_dataset('u', data=3)\n",
    "    ds.attrs['standard_name', SSNO.hasStandardName] = 'x_velocity'\n",
    "    ds.rdf.object['standard_name'] = SSNO.StandardName  # https://matthiasprobst.github.io/ssno#StandardName\n",
    "    \n",
    "    ds = h5.create_dataset('v', data=3)\n",
    "    ds.attrs['standard_name', SSNO.hasStandardName] = 'y_velocity'\n",
    "    ds.rdf.object['standard_name'] = SSNO.StandardName  # https://matthiasprobst.github.io/ssno#StandardName\n",
    "    h5.dump(collapsed=False)\n",
    "\n",
    "hdf_filename = h5.hdf_filename"
   ]
  }
 ],
 "metadata": {
  "kernelspec": {
   "display_name": "Python 3 (ipykernel)",
   "language": "python",
   "name": "python3"
  },
  "language_info": {
   "codemirror_mode": {
    "name": "ipython",
    "version": 3
   },
   "file_extension": ".py",
   "mimetype": "text/x-python",
   "name": "python",
   "nbconvert_exporter": "python",
   "pygments_lexer": "ipython3",
   "version": "3.10.12"
  }
 },
 "nbformat": 4,
 "nbformat_minor": 5
}
